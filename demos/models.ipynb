{
 "cells": [
  {
   "cell_type": "markdown",
   "metadata": {},
   "source": [
    "# Analyses des modèles\n",
    "\n",
    "\n",
    "Voir\n",
    "\n",
    "- <https://python.quantecon.org/mle.html>"
   ]
  },
  {
   "cell_type": "code",
   "execution_count": 1,
   "metadata": {},
   "outputs": [
    {
     "name": "stdout",
     "output_type": "stream",
     "text": [
      "'/home/romulus/Documents/unc-informatique.pharmaco-chemistry-biblio/catk/catk/data/data.py' loaded\n",
      "'/home/romulus/Documents/unc-informatique.pharmaco-chemistry-biblio/catk/catk/data/__init__.py' loaded\n",
      "'/home/romulus/Documents/unc-informatique.pharmaco-chemistry-biblio/catk/catk/ca.py' loaded\n",
      "'/home/romulus/Documents/unc-informatique.pharmaco-chemistry-biblio/catk/catk/__init__.py' loaded\n"
     ]
    }
   ],
   "source": [
    "from itertools import combinations\n",
    "\n",
    "import matplotlib.pyplot as plt\n",
    "import numpy as np\n",
    "import pandas as pd\n",
    "\n",
    "import statsmodels.api as sm\n",
    "import statsmodels.formula.api as smf\n",
    "\n",
    "\n",
    "from scipy import stats\n",
    "from sklearn.decomposition import TruncatedSVD\n",
    "\n",
    "from IPython.display import display\n",
    "\n",
    "from catk import CA\n",
    "from catk.data import get_colours, get_smokers, get_wisconsin\n",
    "\n",
    "np.set_printoptions(precision=3)\n"
   ]
  },
  {
   "cell_type": "code",
   "execution_count": 2,
   "metadata": {},
   "outputs": [
    {
     "data": {
      "text/html": [
       "<div>\n",
       "<style scoped>\n",
       "    .dataframe tbody tr th:only-of-type {\n",
       "        vertical-align: middle;\n",
       "    }\n",
       "\n",
       "    .dataframe tbody tr th {\n",
       "        vertical-align: top;\n",
       "    }\n",
       "\n",
       "    .dataframe thead th {\n",
       "        text-align: right;\n",
       "    }\n",
       "</style>\n",
       "<table border=\"1\" class=\"dataframe\">\n",
       "  <thead>\n",
       "    <tr style=\"text-align: right;\">\n",
       "      <th>Smoking category</th>\n",
       "      <th>None</th>\n",
       "      <th>Light</th>\n",
       "      <th>Medium</th>\n",
       "      <th>Heavy</th>\n",
       "    </tr>\n",
       "    <tr>\n",
       "      <th>Staff group</th>\n",
       "      <th></th>\n",
       "      <th></th>\n",
       "      <th></th>\n",
       "      <th></th>\n",
       "    </tr>\n",
       "  </thead>\n",
       "  <tbody>\n",
       "    <tr>\n",
       "      <th>Senior Managers</th>\n",
       "      <td>4</td>\n",
       "      <td>2</td>\n",
       "      <td>3</td>\n",
       "      <td>2</td>\n",
       "    </tr>\n",
       "    <tr>\n",
       "      <th>Junior Managers</th>\n",
       "      <td>4</td>\n",
       "      <td>3</td>\n",
       "      <td>7</td>\n",
       "      <td>4</td>\n",
       "    </tr>\n",
       "    <tr>\n",
       "      <th>Senior Employees</th>\n",
       "      <td>25</td>\n",
       "      <td>10</td>\n",
       "      <td>12</td>\n",
       "      <td>4</td>\n",
       "    </tr>\n",
       "    <tr>\n",
       "      <th>Junior Employees</th>\n",
       "      <td>18</td>\n",
       "      <td>24</td>\n",
       "      <td>33</td>\n",
       "      <td>13</td>\n",
       "    </tr>\n",
       "    <tr>\n",
       "      <th>Secretaries</th>\n",
       "      <td>10</td>\n",
       "      <td>6</td>\n",
       "      <td>7</td>\n",
       "      <td>2</td>\n",
       "    </tr>\n",
       "  </tbody>\n",
       "</table>\n",
       "</div>"
      ]
     },
     "execution_count": 2,
     "metadata": {},
     "output_type": "execute_result"
    }
   ],
   "source": [
    "# df = get_colours()\n",
    "df = get_smokers()\n",
    "ca = CA().fit(df)\n",
    "M = df.to_numpy()\n",
    "df\n"
   ]
  },
  {
   "cell_type": "code",
   "execution_count": 3,
   "metadata": {},
   "outputs": [
    {
     "name": "stdout",
     "output_type": "stream",
     "text": [
      "n = 193\n",
      "I = 5\n",
      "J = 4\n",
      "c = [[61 45 62 25]]\n",
      "r = [[11]\n",
      " [18]\n",
      " [51]\n",
      " [88]\n",
      " [25]]\n"
     ]
    }
   ],
   "source": [
    "print(\"n =\", n := ca.n)\n",
    "print(\"I =\", I := ca.I)\n",
    "print(\"J =\", J := ca.J)\n",
    "\n",
    "r, c = stats.contingency.margins(M)\n",
    "# c := M.sum(axis=0).reshape(1, -1) / n\n",
    "# r := M.sum(axis=1).reshape(-1, 1) / n\n",
    "print(\"c =\", c)\n",
    "print(\"r =\", r)\n"
   ]
  },
  {
   "cell_type": "code",
   "execution_count": 4,
   "metadata": {},
   "outputs": [
    {
     "data": {
      "text/html": [
       "<pre style=\"white-space:pre;overflow-x:auto;line-height:normal;font-family:Menlo,'DejaVu Sans Mono',consolas,'Courier New',monospace\">\n",
       "<span style=\"font-weight: bold\">(</span>\n",
       "    <span style=\"color: #008080; text-decoration-color: #008080; font-weight: bold\">16.441643072223254</span>,\n",
       "    <span style=\"color: #008080; text-decoration-color: #008080; font-weight: bold\">0.17183477869584723</span>,\n",
       "    <span style=\"color: #008080; text-decoration-color: #008080; font-weight: bold\">12</span>,\n",
       "    <span style=\"color: #800080; text-decoration-color: #800080; font-weight: bold\">array</span><span style=\"font-weight: bold\">([[</span> <span style=\"color: #008080; text-decoration-color: #008080; font-weight: bold\">3.477</span>,  <span style=\"color: #008080; text-decoration-color: #008080; font-weight: bold\">2.565</span>,  <span style=\"color: #008080; text-decoration-color: #008080; font-weight: bold\">3.534</span>,  <span style=\"color: #008080; text-decoration-color: #008080; font-weight: bold\">1.425</span><span style=\"font-weight: bold\">]</span>,\n",
       "       <span style=\"font-weight: bold\">[</span> <span style=\"color: #008080; text-decoration-color: #008080; font-weight: bold\">5.689</span>,  <span style=\"color: #008080; text-decoration-color: #008080; font-weight: bold\">4.197</span>,  <span style=\"color: #008080; text-decoration-color: #008080; font-weight: bold\">5.782</span>,  <span style=\"color: #008080; text-decoration-color: #008080; font-weight: bold\">2.332</span><span style=\"font-weight: bold\">]</span>,\n",
       "       <span style=\"font-weight: bold\">[</span><span style=\"color: #008080; text-decoration-color: #008080; font-weight: bold\">16.119</span>, <span style=\"color: #008080; text-decoration-color: #008080; font-weight: bold\">11.891</span>, <span style=\"color: #008080; text-decoration-color: #008080; font-weight: bold\">16.383</span>,  <span style=\"color: #008080; text-decoration-color: #008080; font-weight: bold\">6.606</span><span style=\"font-weight: bold\">]</span>,\n",
       "       <span style=\"font-weight: bold\">[</span><span style=\"color: #008080; text-decoration-color: #008080; font-weight: bold\">27.813</span>, <span style=\"color: #008080; text-decoration-color: #008080; font-weight: bold\">20.518</span>, <span style=\"color: #008080; text-decoration-color: #008080; font-weight: bold\">28.269</span>, <span style=\"color: #008080; text-decoration-color: #008080; font-weight: bold\">11.399</span><span style=\"font-weight: bold\">]</span>,\n",
       "       <span style=\"font-weight: bold\">[</span> <span style=\"color: #008080; text-decoration-color: #008080; font-weight: bold\">7.902</span>,  <span style=\"color: #008080; text-decoration-color: #008080; font-weight: bold\">5.829</span>,  <span style=\"color: #008080; text-decoration-color: #008080; font-weight: bold\">8.031</span>,  <span style=\"color: #008080; text-decoration-color: #008080; font-weight: bold\">3.238</span><span style=\"font-weight: bold\">]])</span>\n",
       "<span style=\"font-weight: bold\">)</span>\n",
       "</pre>\n"
      ],
      "text/plain": [
       "\n",
       "\u001b[1m(\u001b[0m\n",
       "    \u001b[1;36m16.441643072223254\u001b[0m,\n",
       "    \u001b[1;36m0.17183477869584723\u001b[0m,\n",
       "    \u001b[1;36m12\u001b[0m,\n",
       "    \u001b[1;35marray\u001b[0m\u001b[1m(\u001b[0m\u001b[1m[\u001b[0m\u001b[1m[\u001b[0m \u001b[1;36m3.477\u001b[0m,  \u001b[1;36m2.565\u001b[0m,  \u001b[1;36m3.534\u001b[0m,  \u001b[1;36m1.425\u001b[0m\u001b[1m]\u001b[0m,\n",
       "       \u001b[1m[\u001b[0m \u001b[1;36m5.689\u001b[0m,  \u001b[1;36m4.197\u001b[0m,  \u001b[1;36m5.782\u001b[0m,  \u001b[1;36m2.332\u001b[0m\u001b[1m]\u001b[0m,\n",
       "       \u001b[1m[\u001b[0m\u001b[1;36m16.119\u001b[0m, \u001b[1;36m11.891\u001b[0m, \u001b[1;36m16.383\u001b[0m,  \u001b[1;36m6.606\u001b[0m\u001b[1m]\u001b[0m,\n",
       "       \u001b[1m[\u001b[0m\u001b[1;36m27.813\u001b[0m, \u001b[1;36m20.518\u001b[0m, \u001b[1;36m28.269\u001b[0m, \u001b[1;36m11.399\u001b[0m\u001b[1m]\u001b[0m,\n",
       "       \u001b[1m[\u001b[0m \u001b[1;36m7.902\u001b[0m,  \u001b[1;36m5.829\u001b[0m,  \u001b[1;36m8.031\u001b[0m,  \u001b[1;36m3.238\u001b[0m\u001b[1m]\u001b[0m\u001b[1m]\u001b[0m\u001b[1m)\u001b[0m\n",
       "\u001b[1m)\u001b[0m\n"
      ]
     },
     "metadata": {},
     "output_type": "display_data"
    }
   ],
   "source": [
    "stats.contingency.chi2_contingency(M)"
   ]
  },
  {
   "cell_type": "markdown",
   "metadata": {},
   "source": [
    "Pour um modèle Poisson, le paramètre est _l'effectif_ de la case $c_{ij}$.\n",
    "\n",
    "Ici, on ne donne :\n",
    "\n",
    "- _null model_, qu'un seul paramètre global $\\mu_{ij} = \\eta$, chaque a le même\n",
    "- _saturate model_, autant de paramètres que de cases, avec $\\mu_{ij} = \\eta + \\beta_i + \\beta_j + \\beta_{ij}$\n",
    "\n",
    "En modèle Poisson, le _grand total_ n'est pas fixe, car c'est la somme des Poissons, qui a pour moyenne ... ?"
   ]
  },
  {
   "cell_type": "code",
   "execution_count": 5,
   "metadata": {},
   "outputs": [
    {
     "data": {
      "text/html": [
       "<pre style=\"white-space:pre;overflow-x:auto;line-height:normal;font-family:Menlo,'DejaVu Sans Mono',consolas,'Courier New',monospace\">\n",
       "<span style=\"color: #800080; text-decoration-color: #800080; font-weight: bold\">array</span><span style=\"font-weight: bold\">([[</span><span style=\"color: #008080; text-decoration-color: #008080; font-weight: bold\">9.65</span>, <span style=\"color: #008080; text-decoration-color: #008080; font-weight: bold\">9.65</span>, <span style=\"color: #008080; text-decoration-color: #008080; font-weight: bold\">9.65</span>, <span style=\"color: #008080; text-decoration-color: #008080; font-weight: bold\">9.65</span><span style=\"font-weight: bold\">]</span>,\n",
       "       <span style=\"font-weight: bold\">[</span><span style=\"color: #008080; text-decoration-color: #008080; font-weight: bold\">9.65</span>, <span style=\"color: #008080; text-decoration-color: #008080; font-weight: bold\">9.65</span>, <span style=\"color: #008080; text-decoration-color: #008080; font-weight: bold\">9.65</span>, <span style=\"color: #008080; text-decoration-color: #008080; font-weight: bold\">9.65</span><span style=\"font-weight: bold\">]</span>,\n",
       "       <span style=\"font-weight: bold\">[</span><span style=\"color: #008080; text-decoration-color: #008080; font-weight: bold\">9.65</span>, <span style=\"color: #008080; text-decoration-color: #008080; font-weight: bold\">9.65</span>, <span style=\"color: #008080; text-decoration-color: #008080; font-weight: bold\">9.65</span>, <span style=\"color: #008080; text-decoration-color: #008080; font-weight: bold\">9.65</span><span style=\"font-weight: bold\">]</span>,\n",
       "       <span style=\"font-weight: bold\">[</span><span style=\"color: #008080; text-decoration-color: #008080; font-weight: bold\">9.65</span>, <span style=\"color: #008080; text-decoration-color: #008080; font-weight: bold\">9.65</span>, <span style=\"color: #008080; text-decoration-color: #008080; font-weight: bold\">9.65</span>, <span style=\"color: #008080; text-decoration-color: #008080; font-weight: bold\">9.65</span><span style=\"font-weight: bold\">]</span>,\n",
       "       <span style=\"font-weight: bold\">[</span><span style=\"color: #008080; text-decoration-color: #008080; font-weight: bold\">9.65</span>, <span style=\"color: #008080; text-decoration-color: #008080; font-weight: bold\">9.65</span>, <span style=\"color: #008080; text-decoration-color: #008080; font-weight: bold\">9.65</span>, <span style=\"color: #008080; text-decoration-color: #008080; font-weight: bold\">9.65</span><span style=\"font-weight: bold\">]])</span>\n",
       "</pre>\n"
      ],
      "text/plain": [
       "\n",
       "\u001b[1;35marray\u001b[0m\u001b[1m(\u001b[0m\u001b[1m[\u001b[0m\u001b[1m[\u001b[0m\u001b[1;36m9.65\u001b[0m, \u001b[1;36m9.65\u001b[0m, \u001b[1;36m9.65\u001b[0m, \u001b[1;36m9.65\u001b[0m\u001b[1m]\u001b[0m,\n",
       "       \u001b[1m[\u001b[0m\u001b[1;36m9.65\u001b[0m, \u001b[1;36m9.65\u001b[0m, \u001b[1;36m9.65\u001b[0m, \u001b[1;36m9.65\u001b[0m\u001b[1m]\u001b[0m,\n",
       "       \u001b[1m[\u001b[0m\u001b[1;36m9.65\u001b[0m, \u001b[1;36m9.65\u001b[0m, \u001b[1;36m9.65\u001b[0m, \u001b[1;36m9.65\u001b[0m\u001b[1m]\u001b[0m,\n",
       "       \u001b[1m[\u001b[0m\u001b[1;36m9.65\u001b[0m, \u001b[1;36m9.65\u001b[0m, \u001b[1;36m9.65\u001b[0m, \u001b[1;36m9.65\u001b[0m\u001b[1m]\u001b[0m,\n",
       "       \u001b[1m[\u001b[0m\u001b[1;36m9.65\u001b[0m, \u001b[1;36m9.65\u001b[0m, \u001b[1;36m9.65\u001b[0m, \u001b[1;36m9.65\u001b[0m\u001b[1m]\u001b[0m\u001b[1m]\u001b[0m\u001b[1m)\u001b[0m\n"
      ]
     },
     "metadata": {},
     "output_type": "display_data"
    },
    {
     "data": {
      "text/html": [
       "<pre style=\"white-space:pre;overflow-x:auto;line-height:normal;font-family:Menlo,'DejaVu Sans Mono',consolas,'Courier New',monospace\">\n",
       "<span style=\"color: #800080; text-decoration-color: #800080; font-weight: bold\">array</span><span style=\"font-weight: bold\">([[</span><span style=\"color: #008080; text-decoration-color: #008080; font-weight: bold\">12</span>, <span style=\"color: #008080; text-decoration-color: #008080; font-weight: bold\">10</span>,  <span style=\"color: #008080; text-decoration-color: #008080; font-weight: bold\">9</span>,  <span style=\"color: #008080; text-decoration-color: #008080; font-weight: bold\">9</span><span style=\"font-weight: bold\">]</span>,\n",
       "       <span style=\"font-weight: bold\">[</span> <span style=\"color: #008080; text-decoration-color: #008080; font-weight: bold\">9</span>, <span style=\"color: #008080; text-decoration-color: #008080; font-weight: bold\">11</span>, <span style=\"color: #008080; text-decoration-color: #008080; font-weight: bold\">12</span>,  <span style=\"color: #008080; text-decoration-color: #008080; font-weight: bold\">7</span><span style=\"font-weight: bold\">]</span>,\n",
       "       <span style=\"font-weight: bold\">[</span> <span style=\"color: #008080; text-decoration-color: #008080; font-weight: bold\">8</span>,  <span style=\"color: #008080; text-decoration-color: #008080; font-weight: bold\">9</span>, <span style=\"color: #008080; text-decoration-color: #008080; font-weight: bold\">11</span>, <span style=\"color: #008080; text-decoration-color: #008080; font-weight: bold\">11</span><span style=\"font-weight: bold\">]</span>,\n",
       "       <span style=\"font-weight: bold\">[</span> <span style=\"color: #008080; text-decoration-color: #008080; font-weight: bold\">7</span>,  <span style=\"color: #008080; text-decoration-color: #008080; font-weight: bold\">9</span>, <span style=\"color: #008080; text-decoration-color: #008080; font-weight: bold\">11</span>,  <span style=\"color: #008080; text-decoration-color: #008080; font-weight: bold\">8</span><span style=\"font-weight: bold\">]</span>,\n",
       "       <span style=\"font-weight: bold\">[</span><span style=\"color: #008080; text-decoration-color: #008080; font-weight: bold\">10</span>, <span style=\"color: #008080; text-decoration-color: #008080; font-weight: bold\">14</span>,  <span style=\"color: #008080; text-decoration-color: #008080; font-weight: bold\">9</span>, <span style=\"color: #008080; text-decoration-color: #008080; font-weight: bold\">13</span><span style=\"font-weight: bold\">]])</span>\n",
       "</pre>\n"
      ],
      "text/plain": [
       "\n",
       "\u001b[1;35marray\u001b[0m\u001b[1m(\u001b[0m\u001b[1m[\u001b[0m\u001b[1m[\u001b[0m\u001b[1;36m12\u001b[0m, \u001b[1;36m10\u001b[0m,  \u001b[1;36m9\u001b[0m,  \u001b[1;36m9\u001b[0m\u001b[1m]\u001b[0m,\n",
       "       \u001b[1m[\u001b[0m \u001b[1;36m9\u001b[0m, \u001b[1;36m11\u001b[0m, \u001b[1;36m12\u001b[0m,  \u001b[1;36m7\u001b[0m\u001b[1m]\u001b[0m,\n",
       "       \u001b[1m[\u001b[0m \u001b[1;36m8\u001b[0m,  \u001b[1;36m9\u001b[0m, \u001b[1;36m11\u001b[0m, \u001b[1;36m11\u001b[0m\u001b[1m]\u001b[0m,\n",
       "       \u001b[1m[\u001b[0m \u001b[1;36m7\u001b[0m,  \u001b[1;36m9\u001b[0m, \u001b[1;36m11\u001b[0m,  \u001b[1;36m8\u001b[0m\u001b[1m]\u001b[0m,\n",
       "       \u001b[1m[\u001b[0m\u001b[1;36m10\u001b[0m, \u001b[1;36m14\u001b[0m,  \u001b[1;36m9\u001b[0m, \u001b[1;36m13\u001b[0m\u001b[1m]\u001b[0m\u001b[1m]\u001b[0m\u001b[1m)\u001b[0m\n"
      ]
     },
     "metadata": {},
     "output_type": "display_data"
    },
    {
     "name": "stdout",
     "output_type": "stream",
     "text": [
      "n = 199\n"
     ]
    }
   ],
   "source": [
    "null_mu = np.ones_like(M) * n / M.size\n",
    "display(null_mu)\n",
    "null_model = stats.poisson(null_mu)\n",
    "# on tire un jeu selon ce modèle\n",
    "display(S := null_model.rvs())\n",
    "print(f\"n = {S.sum()}\")"
   ]
  },
  {
   "cell_type": "code",
   "execution_count": 6,
   "metadata": {},
   "outputs": [
    {
     "data": {
      "text/html": [
       "<pre style=\"white-space:pre;overflow-x:auto;line-height:normal;font-family:Menlo,'DejaVu Sans Mono',consolas,'Courier New',monospace\">\n",
       "<span style=\"color: #800080; text-decoration-color: #800080; font-weight: bold\">array</span><span style=\"font-weight: bold\">([[</span> <span style=\"color: #008080; text-decoration-color: #008080; font-weight: bold\">3.477</span>,  <span style=\"color: #008080; text-decoration-color: #008080; font-weight: bold\">2.565</span>,  <span style=\"color: #008080; text-decoration-color: #008080; font-weight: bold\">3.534</span>,  <span style=\"color: #008080; text-decoration-color: #008080; font-weight: bold\">1.425</span><span style=\"font-weight: bold\">]</span>,\n",
       "       <span style=\"font-weight: bold\">[</span> <span style=\"color: #008080; text-decoration-color: #008080; font-weight: bold\">5.689</span>,  <span style=\"color: #008080; text-decoration-color: #008080; font-weight: bold\">4.197</span>,  <span style=\"color: #008080; text-decoration-color: #008080; font-weight: bold\">5.782</span>,  <span style=\"color: #008080; text-decoration-color: #008080; font-weight: bold\">2.332</span><span style=\"font-weight: bold\">]</span>,\n",
       "       <span style=\"font-weight: bold\">[</span><span style=\"color: #008080; text-decoration-color: #008080; font-weight: bold\">16.119</span>, <span style=\"color: #008080; text-decoration-color: #008080; font-weight: bold\">11.891</span>, <span style=\"color: #008080; text-decoration-color: #008080; font-weight: bold\">16.383</span>,  <span style=\"color: #008080; text-decoration-color: #008080; font-weight: bold\">6.606</span><span style=\"font-weight: bold\">]</span>,\n",
       "       <span style=\"font-weight: bold\">[</span><span style=\"color: #008080; text-decoration-color: #008080; font-weight: bold\">27.813</span>, <span style=\"color: #008080; text-decoration-color: #008080; font-weight: bold\">20.518</span>, <span style=\"color: #008080; text-decoration-color: #008080; font-weight: bold\">28.269</span>, <span style=\"color: #008080; text-decoration-color: #008080; font-weight: bold\">11.399</span><span style=\"font-weight: bold\">]</span>,\n",
       "       <span style=\"font-weight: bold\">[</span> <span style=\"color: #008080; text-decoration-color: #008080; font-weight: bold\">7.902</span>,  <span style=\"color: #008080; text-decoration-color: #008080; font-weight: bold\">5.829</span>,  <span style=\"color: #008080; text-decoration-color: #008080; font-weight: bold\">8.031</span>,  <span style=\"color: #008080; text-decoration-color: #008080; font-weight: bold\">3.238</span><span style=\"font-weight: bold\">]])</span>\n",
       "</pre>\n"
      ],
      "text/plain": [
       "\n",
       "\u001b[1;35marray\u001b[0m\u001b[1m(\u001b[0m\u001b[1m[\u001b[0m\u001b[1m[\u001b[0m \u001b[1;36m3.477\u001b[0m,  \u001b[1;36m2.565\u001b[0m,  \u001b[1;36m3.534\u001b[0m,  \u001b[1;36m1.425\u001b[0m\u001b[1m]\u001b[0m,\n",
       "       \u001b[1m[\u001b[0m \u001b[1;36m5.689\u001b[0m,  \u001b[1;36m4.197\u001b[0m,  \u001b[1;36m5.782\u001b[0m,  \u001b[1;36m2.332\u001b[0m\u001b[1m]\u001b[0m,\n",
       "       \u001b[1m[\u001b[0m\u001b[1;36m16.119\u001b[0m, \u001b[1;36m11.891\u001b[0m, \u001b[1;36m16.383\u001b[0m,  \u001b[1;36m6.606\u001b[0m\u001b[1m]\u001b[0m,\n",
       "       \u001b[1m[\u001b[0m\u001b[1;36m27.813\u001b[0m, \u001b[1;36m20.518\u001b[0m, \u001b[1;36m28.269\u001b[0m, \u001b[1;36m11.399\u001b[0m\u001b[1m]\u001b[0m,\n",
       "       \u001b[1m[\u001b[0m \u001b[1;36m7.902\u001b[0m,  \u001b[1;36m5.829\u001b[0m,  \u001b[1;36m8.031\u001b[0m,  \u001b[1;36m3.238\u001b[0m\u001b[1m]\u001b[0m\u001b[1m]\u001b[0m\u001b[1m)\u001b[0m\n"
      ]
     },
     "metadata": {},
     "output_type": "display_data"
    },
    {
     "data": {
      "text/html": [
       "<pre style=\"white-space:pre;overflow-x:auto;line-height:normal;font-family:Menlo,'DejaVu Sans Mono',consolas,'Courier New',monospace\">\n",
       "<span style=\"color: #800080; text-decoration-color: #800080; font-weight: bold\">array</span><span style=\"font-weight: bold\">([[</span> <span style=\"color: #008080; text-decoration-color: #008080; font-weight: bold\">1</span>,  <span style=\"color: #008080; text-decoration-color: #008080; font-weight: bold\">2</span>,  <span style=\"color: #008080; text-decoration-color: #008080; font-weight: bold\">3</span>,  <span style=\"color: #008080; text-decoration-color: #008080; font-weight: bold\">2</span><span style=\"font-weight: bold\">]</span>,\n",
       "       <span style=\"font-weight: bold\">[</span> <span style=\"color: #008080; text-decoration-color: #008080; font-weight: bold\">5</span>,  <span style=\"color: #008080; text-decoration-color: #008080; font-weight: bold\">3</span>,  <span style=\"color: #008080; text-decoration-color: #008080; font-weight: bold\">3</span>,  <span style=\"color: #008080; text-decoration-color: #008080; font-weight: bold\">5</span><span style=\"font-weight: bold\">]</span>,\n",
       "       <span style=\"font-weight: bold\">[</span><span style=\"color: #008080; text-decoration-color: #008080; font-weight: bold\">12</span>, <span style=\"color: #008080; text-decoration-color: #008080; font-weight: bold\">13</span>, <span style=\"color: #008080; text-decoration-color: #008080; font-weight: bold\">18</span>,  <span style=\"color: #008080; text-decoration-color: #008080; font-weight: bold\">7</span><span style=\"font-weight: bold\">]</span>,\n",
       "       <span style=\"font-weight: bold\">[</span><span style=\"color: #008080; text-decoration-color: #008080; font-weight: bold\">39</span>, <span style=\"color: #008080; text-decoration-color: #008080; font-weight: bold\">19</span>, <span style=\"color: #008080; text-decoration-color: #008080; font-weight: bold\">36</span>, <span style=\"color: #008080; text-decoration-color: #008080; font-weight: bold\">13</span><span style=\"font-weight: bold\">]</span>,\n",
       "       <span style=\"font-weight: bold\">[</span><span style=\"color: #008080; text-decoration-color: #008080; font-weight: bold\">10</span>,  <span style=\"color: #008080; text-decoration-color: #008080; font-weight: bold\">6</span>, <span style=\"color: #008080; text-decoration-color: #008080; font-weight: bold\">13</span>,  <span style=\"color: #008080; text-decoration-color: #008080; font-weight: bold\">3</span><span style=\"font-weight: bold\">]])</span>\n",
       "</pre>\n"
      ],
      "text/plain": [
       "\n",
       "\u001b[1;35marray\u001b[0m\u001b[1m(\u001b[0m\u001b[1m[\u001b[0m\u001b[1m[\u001b[0m \u001b[1;36m1\u001b[0m,  \u001b[1;36m2\u001b[0m,  \u001b[1;36m3\u001b[0m,  \u001b[1;36m2\u001b[0m\u001b[1m]\u001b[0m,\n",
       "       \u001b[1m[\u001b[0m \u001b[1;36m5\u001b[0m,  \u001b[1;36m3\u001b[0m,  \u001b[1;36m3\u001b[0m,  \u001b[1;36m5\u001b[0m\u001b[1m]\u001b[0m,\n",
       "       \u001b[1m[\u001b[0m\u001b[1;36m12\u001b[0m, \u001b[1;36m13\u001b[0m, \u001b[1;36m18\u001b[0m,  \u001b[1;36m7\u001b[0m\u001b[1m]\u001b[0m,\n",
       "       \u001b[1m[\u001b[0m\u001b[1;36m39\u001b[0m, \u001b[1;36m19\u001b[0m, \u001b[1;36m36\u001b[0m, \u001b[1;36m13\u001b[0m\u001b[1m]\u001b[0m,\n",
       "       \u001b[1m[\u001b[0m\u001b[1;36m10\u001b[0m,  \u001b[1;36m6\u001b[0m, \u001b[1;36m13\u001b[0m,  \u001b[1;36m3\u001b[0m\u001b[1m]\u001b[0m\u001b[1m]\u001b[0m\u001b[1m)\u001b[0m\n"
      ]
     },
     "metadata": {},
     "output_type": "display_data"
    },
    {
     "name": "stdout",
     "output_type": "stream",
     "text": [
      "n = 213\n"
     ]
    }
   ],
   "source": [
    "# print(f\"dof = {r.size} + {c.size} + 1 - 2 = {r.size + c.size + 1 - 2}\")\n",
    "saturated_mu = r @ c / n\n",
    "display(saturated_mu)\n",
    "# saturated Poisson\n",
    "saturated_model = stats.poisson(saturated_mu)\n",
    "# on tire un jeu selon ce modèle\n",
    "display(S := saturated_model.rvs())\n",
    "print(f\"n = {S.sum()}\")\n"
   ]
  },
  {
   "cell_type": "code",
   "execution_count": 7,
   "metadata": {},
   "outputs": [
    {
     "name": "stdout",
     "output_type": "stream",
     "text": [
      "P(X = S) = 4.035878093694699e-21\n",
      "P(X = E) = 0.0\n",
      "P(X = S)/P(X = E) = inf%\n"
     ]
    },
    {
     "name": "stderr",
     "output_type": "stream",
     "text": [
      "/tmp/ipykernel_1660486/454954508.py:8: RuntimeWarning: divide by zero encountered in double_scalars\n",
      "  print(f\"P(X = S)/P(X = E) = {100*P_S/P_E:.2f}%\")\n"
     ]
    }
   ],
   "source": [
    "# on compare la proba de tirer cette matrice par rapport au modèle E\n",
    "\n",
    "P_S = saturated_model.pmf(S).prod()\n",
    "print(f\"P(X = S) = {P_S}\")\n",
    "E = (n * r @ c).astype(np.uint64)\n",
    "P_E = saturated_model.pmf(E).prod()\n",
    "print(f\"P(X = E) = {P_E}\")\n",
    "print(f\"P(X = S)/P(X = E) = {100*P_S/P_E:.2f}%\")\n"
   ]
  },
  {
   "cell_type": "code",
   "execution_count": 8,
   "metadata": {},
   "outputs": [
    {
     "data": {
      "text/html": [
       "<pre style=\"white-space:pre;overflow-x:auto;line-height:normal;font-family:Menlo,'DejaVu Sans Mono',consolas,'Courier New',monospace\">\n",
       "<span style=\"color: #800080; text-decoration-color: #800080; font-weight: bold\">array</span><span style=\"font-weight: bold\">([[</span><span style=\"color: #008080; text-decoration-color: #008080; font-weight: bold\">0</span>., <span style=\"color: #008080; text-decoration-color: #008080; font-weight: bold\">0</span>., <span style=\"color: #008080; text-decoration-color: #008080; font-weight: bold\">0</span>., <span style=\"color: #008080; text-decoration-color: #008080; font-weight: bold\">0</span>.<span style=\"font-weight: bold\">]</span>,\n",
       "       <span style=\"font-weight: bold\">[</span><span style=\"color: #008080; text-decoration-color: #008080; font-weight: bold\">0</span>., <span style=\"color: #008080; text-decoration-color: #008080; font-weight: bold\">0</span>., <span style=\"color: #008080; text-decoration-color: #008080; font-weight: bold\">0</span>., <span style=\"color: #008080; text-decoration-color: #008080; font-weight: bold\">0</span>.<span style=\"font-weight: bold\">]</span>,\n",
       "       <span style=\"font-weight: bold\">[</span><span style=\"color: #008080; text-decoration-color: #008080; font-weight: bold\">0</span>., <span style=\"color: #008080; text-decoration-color: #008080; font-weight: bold\">0</span>., <span style=\"color: #008080; text-decoration-color: #008080; font-weight: bold\">0</span>., <span style=\"color: #008080; text-decoration-color: #008080; font-weight: bold\">0</span>.<span style=\"font-weight: bold\">]</span>,\n",
       "       <span style=\"font-weight: bold\">[</span><span style=\"color: #008080; text-decoration-color: #008080; font-weight: bold\">0</span>., <span style=\"color: #008080; text-decoration-color: #008080; font-weight: bold\">0</span>., <span style=\"color: #008080; text-decoration-color: #008080; font-weight: bold\">0</span>., <span style=\"color: #008080; text-decoration-color: #008080; font-weight: bold\">1</span>.<span style=\"font-weight: bold\">]</span>,\n",
       "       <span style=\"font-weight: bold\">[</span><span style=\"color: #008080; text-decoration-color: #008080; font-weight: bold\">0</span>., <span style=\"color: #008080; text-decoration-color: #008080; font-weight: bold\">0</span>., <span style=\"color: #008080; text-decoration-color: #008080; font-weight: bold\">0</span>., <span style=\"color: #008080; text-decoration-color: #008080; font-weight: bold\">1</span>.<span style=\"font-weight: bold\">]])</span>\n",
       "</pre>\n"
      ],
      "text/plain": [
       "\n",
       "\u001b[1;35marray\u001b[0m\u001b[1m(\u001b[0m\u001b[1m[\u001b[0m\u001b[1m[\u001b[0m\u001b[1;36m0\u001b[0m., \u001b[1;36m0\u001b[0m., \u001b[1;36m0\u001b[0m., \u001b[1;36m0\u001b[0m.\u001b[1m]\u001b[0m,\n",
       "       \u001b[1m[\u001b[0m\u001b[1;36m0\u001b[0m., \u001b[1;36m0\u001b[0m., \u001b[1;36m0\u001b[0m., \u001b[1;36m0\u001b[0m.\u001b[1m]\u001b[0m,\n",
       "       \u001b[1m[\u001b[0m\u001b[1;36m0\u001b[0m., \u001b[1;36m0\u001b[0m., \u001b[1;36m0\u001b[0m., \u001b[1;36m0\u001b[0m.\u001b[1m]\u001b[0m,\n",
       "       \u001b[1m[\u001b[0m\u001b[1;36m0\u001b[0m., \u001b[1;36m0\u001b[0m., \u001b[1;36m0\u001b[0m., \u001b[1;36m1\u001b[0m.\u001b[1m]\u001b[0m,\n",
       "       \u001b[1m[\u001b[0m\u001b[1;36m0\u001b[0m., \u001b[1;36m0\u001b[0m., \u001b[1;36m0\u001b[0m., \u001b[1;36m1\u001b[0m.\u001b[1m]\u001b[0m\u001b[1m]\u001b[0m\u001b[1m)\u001b[0m\n"
      ]
     },
     "metadata": {},
     "output_type": "display_data"
    },
    {
     "name": "stdout",
     "output_type": "stream",
     "text": [
      "P(X = Ep) = 0.0\n",
      "P(X = Ep)/P(X = E) = nan%\n"
     ]
    },
    {
     "name": "stderr",
     "output_type": "stream",
     "text": [
      "/tmp/ipykernel_1660486/2284770072.py:8: RuntimeWarning: invalid value encountered in double_scalars\n",
      "  print(f\"P(X = Ep)/P(X = E) = {100*P_Ep/P_E:.2f}%\")\n"
     ]
    }
   ],
   "source": [
    "# on compare la proba de tirer la matrice d'origine perturbée par Poisson(0.2)\n",
    "\n",
    "perturb = stats.poisson(mu=np.array([0.2]*M.size).reshape(M.shape))\n",
    "Ep = E + perturb.rvs()\n",
    "display(Ep - E)\n",
    "P_Ep = saturated_model.pmf(Ep).prod()\n",
    "print(f\"P(X = Ep) = {P_Ep}\")\n",
    "print(f\"P(X = Ep)/P(X = E) = {100*P_Ep/P_E:.2f}%\")\n",
    "\n"
   ]
  },
  {
   "cell_type": "code",
   "execution_count": 9,
   "metadata": {},
   "outputs": [
    {
     "data": {
      "text/html": [
       "<pre style=\"white-space:pre;overflow-x:auto;line-height:normal;font-family:Menlo,'DejaVu Sans Mono',consolas,'Courier New',monospace\">\n",
       "<span style=\"color: #800080; text-decoration-color: #800080; font-weight: bold\">array</span><span style=\"font-weight: bold\">([[</span> <span style=\"color: #008080; text-decoration-color: #008080; font-weight: bold\">129562.481</span>,   <span style=\"color: #008080; text-decoration-color: #008080; font-weight: bold\">95521.158</span>,  <span style=\"color: #008080; text-decoration-color: #008080; font-weight: bold\">131590.794</span>,   <span style=\"color: #008080; text-decoration-color: #008080; font-weight: bold\">53053.567</span><span style=\"font-weight: bold\">]</span>,\n",
       "       <span style=\"font-weight: bold\">[</span> <span style=\"color: #008080; text-decoration-color: #008080; font-weight: bold\">211500.99</span> ,  <span style=\"color: #008080; text-decoration-color: #008080; font-weight: bold\">156403.298</span>,  <span style=\"color: #008080; text-decoration-color: #008080; font-weight: bold\">215588.505</span>,   <span style=\"color: #008080; text-decoration-color: #008080; font-weight: bold\">86971.206</span><span style=\"font-weight: bold\">]</span>,\n",
       "       <span style=\"font-weight: bold\">[</span> <span style=\"color: #008080; text-decoration-color: #008080; font-weight: bold\">602101.194</span>,  <span style=\"color: #008080; text-decoration-color: #008080; font-weight: bold\">442607.28</span> ,  <span style=\"color: #008080; text-decoration-color: #008080; font-weight: bold\">609389.909</span>,  <span style=\"color: #008080; text-decoration-color: #008080; font-weight: bold\">245549.616</span><span style=\"font-weight: bold\">]</span>,\n",
       "       <span style=\"font-weight: bold\">[</span><span style=\"color: #008080; text-decoration-color: #008080; font-weight: bold\">1034207.212</span>,  <span style=\"color: #008080; text-decoration-color: #008080; font-weight: bold\">764591.552</span>, <span style=\"color: #008080; text-decoration-color: #008080; font-weight: bold\">1053887.589</span>,  <span style=\"color: #008080; text-decoration-color: #008080; font-weight: bold\">425137.647</span><span style=\"font-weight: bold\">]</span>,\n",
       "       <span style=\"font-weight: bold\">[</span> <span style=\"color: #008080; text-decoration-color: #008080; font-weight: bold\">294756.123</span>,  <span style=\"color: #008080; text-decoration-color: #008080; font-weight: bold\">217036.711</span>,  <span style=\"color: #008080; text-decoration-color: #008080; font-weight: bold\">298919.203</span>,  <span style=\"color: #008080; text-decoration-color: #008080; font-weight: bold\">120487.963</span><span style=\"font-weight: bold\">]])</span>\n",
       "</pre>\n"
      ],
      "text/plain": [
       "\n",
       "\u001b[1;35marray\u001b[0m\u001b[1m(\u001b[0m\u001b[1m[\u001b[0m\u001b[1m[\u001b[0m \u001b[1;36m129562.481\u001b[0m,   \u001b[1;36m95521.158\u001b[0m,  \u001b[1;36m131590.794\u001b[0m,   \u001b[1;36m53053.567\u001b[0m\u001b[1m]\u001b[0m,\n",
       "       \u001b[1m[\u001b[0m \u001b[1;36m211500.99\u001b[0m ,  \u001b[1;36m156403.298\u001b[0m,  \u001b[1;36m215588.505\u001b[0m,   \u001b[1;36m86971.206\u001b[0m\u001b[1m]\u001b[0m,\n",
       "       \u001b[1m[\u001b[0m \u001b[1;36m602101.194\u001b[0m,  \u001b[1;36m442607.28\u001b[0m ,  \u001b[1;36m609389.909\u001b[0m,  \u001b[1;36m245549.616\u001b[0m\u001b[1m]\u001b[0m,\n",
       "       \u001b[1m[\u001b[0m\u001b[1;36m1034207.212\u001b[0m,  \u001b[1;36m764591.552\u001b[0m, \u001b[1;36m1053887.589\u001b[0m,  \u001b[1;36m425137.647\u001b[0m\u001b[1m]\u001b[0m,\n",
       "       \u001b[1m[\u001b[0m \u001b[1;36m294756.123\u001b[0m,  \u001b[1;36m217036.711\u001b[0m,  \u001b[1;36m298919.203\u001b[0m,  \u001b[1;36m120487.963\u001b[0m\u001b[1m]\u001b[0m\u001b[1m]\u001b[0m\u001b[1m)\u001b[0m\n"
      ]
     },
     "metadata": {},
     "output_type": "display_data"
    }
   ],
   "source": [
    "K = 1  # min(I,J)\n",
    "mask = np.eye(I, J) * ([1] * K + [0] * (min(I, J) - K))\n",
    "A = ((ca.U @ (ca.Da * mask) @ ca.Vt) * np.sqrt(c) * np.sqrt(r) + r @ c)\n",
    "n*(A - M/n)\n"
   ]
  },
  {
   "cell_type": "markdown",
   "metadata": {},
   "source": [
    "Pour $K=1$, ici $J < I$ on a :\n",
    "\n",
    "- 1  paramètre pour $n$\n",
    "- $(I-1)$ paramètres pour $r$\n",
    "- $(J-1)$ paramètres pour $c$\n",
    "- $K*(I-1)$ paramètres pour le premier axe\n",
    "\n",
    "Comme si :\n",
    "\n",
    "- on gardait la première _ligne_ de $V^T$\n",
    "- on gardait la première _colonne_ de $U$"
   ]
  },
  {
   "cell_type": "code",
   "execution_count": 10,
   "metadata": {},
   "outputs": [
    {
     "data": {
      "text/html": [
       "<pre style=\"white-space:pre;overflow-x:auto;line-height:normal;font-family:Menlo,'DejaVu Sans Mono',consolas,'Courier New',monospace\">\n",
       "<span style=\"color: #800080; text-decoration-color: #800080; font-weight: bold\">array</span><span style=\"font-weight: bold\">([[</span><span style=\"color: #008080; text-decoration-color: #008080; font-weight: bold\">-0.809</span>,  <span style=\"color: #008080; text-decoration-color: #008080; font-weight: bold\">0.176</span>,  <span style=\"color: #008080; text-decoration-color: #008080; font-weight: bold\">0.407</span>,  <span style=\"color: #008080; text-decoration-color: #008080; font-weight: bold\">0.387</span><span style=\"font-weight: bold\">]</span>,\n",
       "       <span style=\"font-weight: bold\">[</span> <span style=\"color: #008080; text-decoration-color: #008080; font-weight: bold\">0</span>.   ,  <span style=\"color: #008080; text-decoration-color: #008080; font-weight: bold\">0</span>.   ,  <span style=\"color: #008080; text-decoration-color: #008080; font-weight: bold\">0</span>.   ,  <span style=\"color: #008080; text-decoration-color: #008080; font-weight: bold\">0</span>.   <span style=\"font-weight: bold\">]</span>,\n",
       "       <span style=\"font-weight: bold\">[</span> <span style=\"color: #008080; text-decoration-color: #008080; font-weight: bold\">0</span>.   ,  <span style=\"color: #008080; text-decoration-color: #008080; font-weight: bold\">0</span>.   ,  <span style=\"color: #008080; text-decoration-color: #008080; font-weight: bold\">0</span>.   ,  <span style=\"color: #008080; text-decoration-color: #008080; font-weight: bold\">0</span>.   <span style=\"font-weight: bold\">]</span>,\n",
       "       <span style=\"font-weight: bold\">[</span> <span style=\"color: #008080; text-decoration-color: #008080; font-weight: bold\">0</span>.   ,  <span style=\"color: #008080; text-decoration-color: #008080; font-weight: bold\">0</span>.   ,  <span style=\"color: #008080; text-decoration-color: #008080; font-weight: bold\">0</span>.   ,  <span style=\"color: #008080; text-decoration-color: #008080; font-weight: bold\">0</span>.   <span style=\"font-weight: bold\">]</span>,\n",
       "       <span style=\"font-weight: bold\">[</span> <span style=\"color: #008080; text-decoration-color: #008080; font-weight: bold\">0</span>.   ,  <span style=\"color: #008080; text-decoration-color: #008080; font-weight: bold\">0</span>.   ,  <span style=\"color: #008080; text-decoration-color: #008080; font-weight: bold\">0</span>.   ,  <span style=\"color: #008080; text-decoration-color: #008080; font-weight: bold\">0</span>.   <span style=\"font-weight: bold\">]])</span>\n",
       "</pre>\n"
      ],
      "text/plain": [
       "\n",
       "\u001b[1;35marray\u001b[0m\u001b[1m(\u001b[0m\u001b[1m[\u001b[0m\u001b[1m[\u001b[0m\u001b[1;36m-0.809\u001b[0m,  \u001b[1;36m0.176\u001b[0m,  \u001b[1;36m0.407\u001b[0m,  \u001b[1;36m0.387\u001b[0m\u001b[1m]\u001b[0m,\n",
       "       \u001b[1m[\u001b[0m \u001b[1;36m0\u001b[0m.   ,  \u001b[1;36m0\u001b[0m.   ,  \u001b[1;36m0\u001b[0m.   ,  \u001b[1;36m0\u001b[0m.   \u001b[1m]\u001b[0m,\n",
       "       \u001b[1m[\u001b[0m \u001b[1;36m0\u001b[0m.   ,  \u001b[1;36m0\u001b[0m.   ,  \u001b[1;36m0\u001b[0m.   ,  \u001b[1;36m0\u001b[0m.   \u001b[1m]\u001b[0m,\n",
       "       \u001b[1m[\u001b[0m \u001b[1;36m0\u001b[0m.   ,  \u001b[1;36m0\u001b[0m.   ,  \u001b[1;36m0\u001b[0m.   ,  \u001b[1;36m0\u001b[0m.   \u001b[1m]\u001b[0m,\n",
       "       \u001b[1m[\u001b[0m \u001b[1;36m0\u001b[0m.   ,  \u001b[1;36m0\u001b[0m.   ,  \u001b[1;36m0\u001b[0m.   ,  \u001b[1;36m0\u001b[0m.   \u001b[1m]\u001b[0m\u001b[1m]\u001b[0m\u001b[1m)\u001b[0m\n"
      ]
     },
     "metadata": {},
     "output_type": "display_data"
    },
    {
     "data": {
      "text/html": [
       "<pre style=\"white-space:pre;overflow-x:auto;line-height:normal;font-family:Menlo,'DejaVu Sans Mono',consolas,'Courier New',monospace\">\n",
       "<span style=\"color: #800080; text-decoration-color: #800080; font-weight: bold\">array</span><span style=\"font-weight: bold\">([[</span><span style=\"color: #008080; text-decoration-color: #008080; font-weight: bold\">-0.057</span>,  <span style=\"color: #008080; text-decoration-color: #008080; font-weight: bold\">0</span>.   ,  <span style=\"color: #008080; text-decoration-color: #008080; font-weight: bold\">0</span>.   ,  <span style=\"color: #008080; text-decoration-color: #008080; font-weight: bold\">0</span>.   <span style=\"font-weight: bold\">]</span>,\n",
       "       <span style=\"font-weight: bold\">[</span> <span style=\"color: #008080; text-decoration-color: #008080; font-weight: bold\">0.289</span>,  <span style=\"color: #008080; text-decoration-color: #008080; font-weight: bold\">0</span>.   ,  <span style=\"color: #008080; text-decoration-color: #008080; font-weight: bold\">0</span>.   ,  <span style=\"color: #008080; text-decoration-color: #008080; font-weight: bold\">0</span>.   <span style=\"font-weight: bold\">]</span>,\n",
       "       <span style=\"font-weight: bold\">[</span><span style=\"color: #008080; text-decoration-color: #008080; font-weight: bold\">-0.716</span>,  <span style=\"color: #008080; text-decoration-color: #008080; font-weight: bold\">0</span>.   ,  <span style=\"color: #008080; text-decoration-color: #008080; font-weight: bold\">0</span>.   ,  <span style=\"color: #008080; text-decoration-color: #008080; font-weight: bold\">0</span>.   <span style=\"font-weight: bold\">]</span>,\n",
       "       <span style=\"font-weight: bold\">[</span> <span style=\"color: #008080; text-decoration-color: #008080; font-weight: bold\">0.575</span>,  <span style=\"color: #008080; text-decoration-color: #008080; font-weight: bold\">0</span>.   ,  <span style=\"color: #008080; text-decoration-color: #008080; font-weight: bold\">0</span>.   ,  <span style=\"color: #008080; text-decoration-color: #008080; font-weight: bold\">0</span>.   <span style=\"font-weight: bold\">]</span>,\n",
       "       <span style=\"font-weight: bold\">[</span><span style=\"color: #008080; text-decoration-color: #008080; font-weight: bold\">-0.265</span>,  <span style=\"color: #008080; text-decoration-color: #008080; font-weight: bold\">0</span>.   ,  <span style=\"color: #008080; text-decoration-color: #008080; font-weight: bold\">0</span>.   ,  <span style=\"color: #008080; text-decoration-color: #008080; font-weight: bold\">0</span>.   <span style=\"font-weight: bold\">]])</span>\n",
       "</pre>\n"
      ],
      "text/plain": [
       "\n",
       "\u001b[1;35marray\u001b[0m\u001b[1m(\u001b[0m\u001b[1m[\u001b[0m\u001b[1m[\u001b[0m\u001b[1;36m-0.057\u001b[0m,  \u001b[1;36m0\u001b[0m.   ,  \u001b[1;36m0\u001b[0m.   ,  \u001b[1;36m0\u001b[0m.   \u001b[1m]\u001b[0m,\n",
       "       \u001b[1m[\u001b[0m \u001b[1;36m0.289\u001b[0m,  \u001b[1;36m0\u001b[0m.   ,  \u001b[1;36m0\u001b[0m.   ,  \u001b[1;36m0\u001b[0m.   \u001b[1m]\u001b[0m,\n",
       "       \u001b[1m[\u001b[0m\u001b[1;36m-0.716\u001b[0m,  \u001b[1;36m0\u001b[0m.   ,  \u001b[1;36m0\u001b[0m.   ,  \u001b[1;36m0\u001b[0m.   \u001b[1m]\u001b[0m,\n",
       "       \u001b[1m[\u001b[0m \u001b[1;36m0.575\u001b[0m,  \u001b[1;36m0\u001b[0m.   ,  \u001b[1;36m0\u001b[0m.   ,  \u001b[1;36m0\u001b[0m.   \u001b[1m]\u001b[0m,\n",
       "       \u001b[1m[\u001b[0m\u001b[1;36m-0.265\u001b[0m,  \u001b[1;36m0\u001b[0m.   ,  \u001b[1;36m0\u001b[0m.   ,  \u001b[1;36m0\u001b[0m.   \u001b[1m]\u001b[0m\u001b[1m]\u001b[0m\u001b[1m)\u001b[0m\n"
      ]
     },
     "metadata": {},
     "output_type": "display_data"
    },
    {
     "data": {
      "text/html": [
       "<pre style=\"white-space:pre;overflow-x:auto;line-height:normal;font-family:Menlo,'DejaVu Sans Mono',consolas,'Courier New',monospace\">\n",
       "<span style=\"color: #800080; text-decoration-color: #800080; font-weight: bold\">array</span><span style=\"font-weight: bold\">([[</span> <span style=\"color: #008080; text-decoration-color: #008080; font-weight: bold\">0.013</span>, <span style=\"color: #008080; text-decoration-color: #008080; font-weight: bold\">-0.003</span>, <span style=\"color: #008080; text-decoration-color: #008080; font-weight: bold\">-0.006</span>, <span style=\"color: #008080; text-decoration-color: #008080; font-weight: bold\">-0.006</span><span style=\"font-weight: bold\">]</span>,\n",
       "       <span style=\"font-weight: bold\">[</span><span style=\"color: #008080; text-decoration-color: #008080; font-weight: bold\">-0.064</span>,  <span style=\"color: #008080; text-decoration-color: #008080; font-weight: bold\">0.014</span>,  <span style=\"color: #008080; text-decoration-color: #008080; font-weight: bold\">0.032</span>,  <span style=\"color: #008080; text-decoration-color: #008080; font-weight: bold\">0.031</span><span style=\"font-weight: bold\">]</span>,\n",
       "       <span style=\"font-weight: bold\">[</span> <span style=\"color: #008080; text-decoration-color: #008080; font-weight: bold\">0.158</span>, <span style=\"color: #008080; text-decoration-color: #008080; font-weight: bold\">-0.034</span>, <span style=\"color: #008080; text-decoration-color: #008080; font-weight: bold\">-0.08</span> , <span style=\"color: #008080; text-decoration-color: #008080; font-weight: bold\">-0.076</span><span style=\"font-weight: bold\">]</span>,\n",
       "       <span style=\"font-weight: bold\">[</span><span style=\"color: #008080; text-decoration-color: #008080; font-weight: bold\">-0.127</span>,  <span style=\"color: #008080; text-decoration-color: #008080; font-weight: bold\">0.028</span>,  <span style=\"color: #008080; text-decoration-color: #008080; font-weight: bold\">0.064</span>,  <span style=\"color: #008080; text-decoration-color: #008080; font-weight: bold\">0.061</span><span style=\"font-weight: bold\">]</span>,\n",
       "       <span style=\"font-weight: bold\">[</span> <span style=\"color: #008080; text-decoration-color: #008080; font-weight: bold\">0.059</span>, <span style=\"color: #008080; text-decoration-color: #008080; font-weight: bold\">-0.013</span>, <span style=\"color: #008080; text-decoration-color: #008080; font-weight: bold\">-0.029</span>, <span style=\"color: #008080; text-decoration-color: #008080; font-weight: bold\">-0.028</span><span style=\"font-weight: bold\">]])</span>\n",
       "</pre>\n"
      ],
      "text/plain": [
       "\n",
       "\u001b[1;35marray\u001b[0m\u001b[1m(\u001b[0m\u001b[1m[\u001b[0m\u001b[1m[\u001b[0m \u001b[1;36m0.013\u001b[0m, \u001b[1;36m-0.003\u001b[0m, \u001b[1;36m-0.006\u001b[0m, \u001b[1;36m-0.006\u001b[0m\u001b[1m]\u001b[0m,\n",
       "       \u001b[1m[\u001b[0m\u001b[1;36m-0.064\u001b[0m,  \u001b[1;36m0.014\u001b[0m,  \u001b[1;36m0.032\u001b[0m,  \u001b[1;36m0.031\u001b[0m\u001b[1m]\u001b[0m,\n",
       "       \u001b[1m[\u001b[0m \u001b[1;36m0.158\u001b[0m, \u001b[1;36m-0.034\u001b[0m, \u001b[1;36m-0.08\u001b[0m , \u001b[1;36m-0.076\u001b[0m\u001b[1m]\u001b[0m,\n",
       "       \u001b[1m[\u001b[0m\u001b[1;36m-0.127\u001b[0m,  \u001b[1;36m0.028\u001b[0m,  \u001b[1;36m0.064\u001b[0m,  \u001b[1;36m0.061\u001b[0m\u001b[1m]\u001b[0m,\n",
       "       \u001b[1m[\u001b[0m \u001b[1;36m0.059\u001b[0m, \u001b[1;36m-0.013\u001b[0m, \u001b[1;36m-0.029\u001b[0m, \u001b[1;36m-0.028\u001b[0m\u001b[1m]\u001b[0m\u001b[1m]\u001b[0m\u001b[1m)\u001b[0m\n"
      ]
     },
     "metadata": {},
     "output_type": "display_data"
    },
    {
     "data": {
      "text/html": [
       "<pre style=\"white-space:pre;overflow-x:auto;line-height:normal;font-family:Menlo,'DejaVu Sans Mono',consolas,'Courier New',monospace\">\n",
       "<span style=\"color: #800080; text-decoration-color: #800080; font-weight: bold\">array</span><span style=\"font-weight: bold\">([[</span> <span style=\"color: #008080; text-decoration-color: #008080; font-weight: bold\">0.013</span>, <span style=\"color: #008080; text-decoration-color: #008080; font-weight: bold\">-0.003</span>, <span style=\"color: #008080; text-decoration-color: #008080; font-weight: bold\">-0.006</span>, <span style=\"color: #008080; text-decoration-color: #008080; font-weight: bold\">-0.006</span><span style=\"font-weight: bold\">]</span>,\n",
       "       <span style=\"font-weight: bold\">[</span><span style=\"color: #008080; text-decoration-color: #008080; font-weight: bold\">-0.064</span>,  <span style=\"color: #008080; text-decoration-color: #008080; font-weight: bold\">0.014</span>,  <span style=\"color: #008080; text-decoration-color: #008080; font-weight: bold\">0.032</span>,  <span style=\"color: #008080; text-decoration-color: #008080; font-weight: bold\">0.031</span><span style=\"font-weight: bold\">]</span>,\n",
       "       <span style=\"font-weight: bold\">[</span> <span style=\"color: #008080; text-decoration-color: #008080; font-weight: bold\">0.158</span>, <span style=\"color: #008080; text-decoration-color: #008080; font-weight: bold\">-0.034</span>, <span style=\"color: #008080; text-decoration-color: #008080; font-weight: bold\">-0.08</span> , <span style=\"color: #008080; text-decoration-color: #008080; font-weight: bold\">-0.076</span><span style=\"font-weight: bold\">]</span>,\n",
       "       <span style=\"font-weight: bold\">[</span><span style=\"color: #008080; text-decoration-color: #008080; font-weight: bold\">-0.127</span>,  <span style=\"color: #008080; text-decoration-color: #008080; font-weight: bold\">0.028</span>,  <span style=\"color: #008080; text-decoration-color: #008080; font-weight: bold\">0.064</span>,  <span style=\"color: #008080; text-decoration-color: #008080; font-weight: bold\">0.061</span><span style=\"font-weight: bold\">]</span>,\n",
       "       <span style=\"font-weight: bold\">[</span> <span style=\"color: #008080; text-decoration-color: #008080; font-weight: bold\">0.059</span>, <span style=\"color: #008080; text-decoration-color: #008080; font-weight: bold\">-0.013</span>, <span style=\"color: #008080; text-decoration-color: #008080; font-weight: bold\">-0.029</span>, <span style=\"color: #008080; text-decoration-color: #008080; font-weight: bold\">-0.028</span><span style=\"font-weight: bold\">]])</span>\n",
       "</pre>\n"
      ],
      "text/plain": [
       "\n",
       "\u001b[1;35marray\u001b[0m\u001b[1m(\u001b[0m\u001b[1m[\u001b[0m\u001b[1m[\u001b[0m \u001b[1;36m0.013\u001b[0m, \u001b[1;36m-0.003\u001b[0m, \u001b[1;36m-0.006\u001b[0m, \u001b[1;36m-0.006\u001b[0m\u001b[1m]\u001b[0m,\n",
       "       \u001b[1m[\u001b[0m\u001b[1;36m-0.064\u001b[0m,  \u001b[1;36m0.014\u001b[0m,  \u001b[1;36m0.032\u001b[0m,  \u001b[1;36m0.031\u001b[0m\u001b[1m]\u001b[0m,\n",
       "       \u001b[1m[\u001b[0m \u001b[1;36m0.158\u001b[0m, \u001b[1;36m-0.034\u001b[0m, \u001b[1;36m-0.08\u001b[0m , \u001b[1;36m-0.076\u001b[0m\u001b[1m]\u001b[0m,\n",
       "       \u001b[1m[\u001b[0m\u001b[1;36m-0.127\u001b[0m,  \u001b[1;36m0.028\u001b[0m,  \u001b[1;36m0.064\u001b[0m,  \u001b[1;36m0.061\u001b[0m\u001b[1m]\u001b[0m,\n",
       "       \u001b[1m[\u001b[0m \u001b[1;36m0.059\u001b[0m, \u001b[1;36m-0.013\u001b[0m, \u001b[1;36m-0.029\u001b[0m, \u001b[1;36m-0.028\u001b[0m\u001b[1m]\u001b[0m\u001b[1m]\u001b[0m\u001b[1m)\u001b[0m\n"
      ]
     },
     "metadata": {},
     "output_type": "display_data"
    }
   ],
   "source": [
    "display(mask @ ca.Vt)\n",
    "display(ca.U @ mask)\n",
    "display(ca.U @ (ca.Da * mask) @ ca.Vt)\n",
    "# display(ca.U @ (mask) @ ca.Vt)\n",
    "# on reconstruit à partir de la première ligne de Vt et colonne de U\n",
    "R = ca.U[:, 0].reshape(I,1) @ ca.Vt[0,:].reshape(1,J)\n",
    "display(R*ca.eiv[0])"
   ]
  },
  {
   "cell_type": "markdown",
   "metadata": {},
   "source": [
    "Si on sait passer de $V^T$ à $U$ (ou l'inverse, selon la plsu grande dimension) on a gagné"
   ]
  },
  {
   "cell_type": "code",
   "execution_count": 11,
   "metadata": {},
   "outputs": [
    {
     "data": {
      "text/html": [
       "<pre style=\"white-space:pre;overflow-x:auto;line-height:normal;font-family:Menlo,'DejaVu Sans Mono',consolas,'Courier New',monospace\">\n",
       "<span style=\"color: #800080; text-decoration-color: #800080; font-weight: bold\">array</span><span style=\"font-weight: bold\">([[</span> <span style=\"color: #008080; text-decoration-color: #008080; font-weight: bold\">0.000e+00</span>,  <span style=\"color: #008080; text-decoration-color: #008080; font-weight: bold\">0.000e+00</span>,  <span style=\"color: #008080; text-decoration-color: #008080; font-weight: bold\">1.137e-13</span>, <span style=\"color: #008080; text-decoration-color: #008080; font-weight: bold\">-5.684e-14</span><span style=\"font-weight: bold\">]</span>,\n",
       "       <span style=\"font-weight: bold\">[</span><span style=\"color: #008080; text-decoration-color: #008080; font-weight: bold\">-4.547e-13</span>,  <span style=\"color: #008080; text-decoration-color: #008080; font-weight: bold\">0.000e+00</span>, <span style=\"color: #008080; text-decoration-color: #008080; font-weight: bold\">-2.274e-13</span>, <span style=\"color: #008080; text-decoration-color: #008080; font-weight: bold\">-1.137e-13</span><span style=\"font-weight: bold\">]</span>,\n",
       "       <span style=\"font-weight: bold\">[</span> <span style=\"color: #008080; text-decoration-color: #008080; font-weight: bold\">0.000e+00</span>,  <span style=\"color: #008080; text-decoration-color: #008080; font-weight: bold\">4.547e-13</span>,  <span style=\"color: #008080; text-decoration-color: #008080; font-weight: bold\">0.000e+00</span>,  <span style=\"color: #008080; text-decoration-color: #008080; font-weight: bold\">2.274e-13</span><span style=\"font-weight: bold\">]</span>,\n",
       "       <span style=\"font-weight: bold\">[</span><span style=\"color: #008080; text-decoration-color: #008080; font-weight: bold\">-9.095e-13</span>,  <span style=\"color: #008080; text-decoration-color: #008080; font-weight: bold\">4.547e-13</span>,  <span style=\"color: #008080; text-decoration-color: #008080; font-weight: bold\">0.000e+00</span>,  <span style=\"color: #008080; text-decoration-color: #008080; font-weight: bold\">4.547e-13</span><span style=\"font-weight: bold\">]</span>,\n",
       "       <span style=\"font-weight: bold\">[</span><span style=\"color: #008080; text-decoration-color: #008080; font-weight: bold\">-2.274e-13</span>,  <span style=\"color: #008080; text-decoration-color: #008080; font-weight: bold\">4.547e-13</span>,  <span style=\"color: #008080; text-decoration-color: #008080; font-weight: bold\">0.000e+00</span>,  <span style=\"color: #008080; text-decoration-color: #008080; font-weight: bold\">0.000e+00</span><span style=\"font-weight: bold\">]])</span>\n",
       "</pre>\n"
      ],
      "text/plain": [
       "\n",
       "\u001b[1;35marray\u001b[0m\u001b[1m(\u001b[0m\u001b[1m[\u001b[0m\u001b[1m[\u001b[0m \u001b[1;36m0.000e+00\u001b[0m,  \u001b[1;36m0.000e+00\u001b[0m,  \u001b[1;36m1.137e-13\u001b[0m, \u001b[1;36m-5.684e-14\u001b[0m\u001b[1m]\u001b[0m,\n",
       "       \u001b[1m[\u001b[0m\u001b[1;36m-4.547e-13\u001b[0m,  \u001b[1;36m0.000e+00\u001b[0m, \u001b[1;36m-2.274e-13\u001b[0m, \u001b[1;36m-1.137e-13\u001b[0m\u001b[1m]\u001b[0m,\n",
       "       \u001b[1m[\u001b[0m \u001b[1;36m0.000e+00\u001b[0m,  \u001b[1;36m4.547e-13\u001b[0m,  \u001b[1;36m0.000e+00\u001b[0m,  \u001b[1;36m2.274e-13\u001b[0m\u001b[1m]\u001b[0m,\n",
       "       \u001b[1m[\u001b[0m\u001b[1;36m-9.095e-13\u001b[0m,  \u001b[1;36m4.547e-13\u001b[0m,  \u001b[1;36m0.000e+00\u001b[0m,  \u001b[1;36m4.547e-13\u001b[0m\u001b[1m]\u001b[0m,\n",
       "       \u001b[1m[\u001b[0m\u001b[1;36m-2.274e-13\u001b[0m,  \u001b[1;36m4.547e-13\u001b[0m,  \u001b[1;36m0.000e+00\u001b[0m,  \u001b[1;36m0.000e+00\u001b[0m\u001b[1m]\u001b[0m\u001b[1m]\u001b[0m\u001b[1m)\u001b[0m\n"
      ]
     },
     "metadata": {},
     "output_type": "display_data"
    }
   ],
   "source": [
    "# la mm en coord std\n",
    "(np.sqrt(r) @ np.sqrt(c))**2 - r@c\n"
   ]
  },
  {
   "cell_type": "markdown",
   "metadata": {},
   "source": [
    "## Modèle loglinear\n",
    "\n",
    "On va refaire le tableau de \"Log Linear Models for Contingency Tables\""
   ]
  },
  {
   "cell_type": "code",
   "execution_count": 125,
   "metadata": {},
   "outputs": [
    {
     "data": {
      "text/html": [
       "<div>\n",
       "<style scoped>\n",
       "    .dataframe tbody tr th:only-of-type {\n",
       "        vertical-align: middle;\n",
       "    }\n",
       "\n",
       "    .dataframe tbody tr th {\n",
       "        vertical-align: top;\n",
       "    }\n",
       "\n",
       "    .dataframe thead th {\n",
       "        text-align: right;\n",
       "    }\n",
       "</style>\n",
       "<table border=\"1\" class=\"dataframe\">\n",
       "  <thead>\n",
       "    <tr style=\"text-align: right;\">\n",
       "      <th></th>\n",
       "      <th>S</th>\n",
       "      <th>E</th>\n",
       "      <th>P</th>\n",
       "      <th>Count</th>\n",
       "    </tr>\n",
       "  </thead>\n",
       "  <tbody>\n",
       "    <tr>\n",
       "      <th>1</th>\n",
       "      <td>Lower</td>\n",
       "      <td>High</td>\n",
       "      <td>No</td>\n",
       "      <td>233</td>\n",
       "    </tr>\n",
       "    <tr>\n",
       "      <th>9</th>\n",
       "      <td>Lower</td>\n",
       "      <td>High</td>\n",
       "      <td>Yes</td>\n",
       "      <td>133</td>\n",
       "    </tr>\n",
       "    <tr>\n",
       "      <th>0</th>\n",
       "      <td>Lower</td>\n",
       "      <td>Low</td>\n",
       "      <td>No</td>\n",
       "      <td>749</td>\n",
       "    </tr>\n",
       "    <tr>\n",
       "      <th>8</th>\n",
       "      <td>Lower</td>\n",
       "      <td>Low</td>\n",
       "      <td>Yes</td>\n",
       "      <td>35</td>\n",
       "    </tr>\n",
       "    <tr>\n",
       "      <th>3</th>\n",
       "      <td>Lower Middle</td>\n",
       "      <td>High</td>\n",
       "      <td>No</td>\n",
       "      <td>330</td>\n",
       "    </tr>\n",
       "    <tr>\n",
       "      <th>11</th>\n",
       "      <td>Lower Middle</td>\n",
       "      <td>High</td>\n",
       "      <td>Yes</td>\n",
       "      <td>303</td>\n",
       "    </tr>\n",
       "    <tr>\n",
       "      <th>2</th>\n",
       "      <td>Lower Middle</td>\n",
       "      <td>Low</td>\n",
       "      <td>No</td>\n",
       "      <td>627</td>\n",
       "    </tr>\n",
       "    <tr>\n",
       "      <th>10</th>\n",
       "      <td>Lower Middle</td>\n",
       "      <td>Low</td>\n",
       "      <td>Yes</td>\n",
       "      <td>38</td>\n",
       "    </tr>\n",
       "    <tr>\n",
       "      <th>7</th>\n",
       "      <td>Upper</td>\n",
       "      <td>High</td>\n",
       "      <td>No</td>\n",
       "      <td>266</td>\n",
       "    </tr>\n",
       "    <tr>\n",
       "      <th>15</th>\n",
       "      <td>Upper</td>\n",
       "      <td>High</td>\n",
       "      <td>Yes</td>\n",
       "      <td>800</td>\n",
       "    </tr>\n",
       "    <tr>\n",
       "      <th>6</th>\n",
       "      <td>Upper</td>\n",
       "      <td>Low</td>\n",
       "      <td>No</td>\n",
       "      <td>153</td>\n",
       "    </tr>\n",
       "    <tr>\n",
       "      <th>14</th>\n",
       "      <td>Upper</td>\n",
       "      <td>Low</td>\n",
       "      <td>Yes</td>\n",
       "      <td>26</td>\n",
       "    </tr>\n",
       "    <tr>\n",
       "      <th>5</th>\n",
       "      <td>Upper Middle</td>\n",
       "      <td>High</td>\n",
       "      <td>No</td>\n",
       "      <td>374</td>\n",
       "    </tr>\n",
       "    <tr>\n",
       "      <th>13</th>\n",
       "      <td>Upper Middle</td>\n",
       "      <td>High</td>\n",
       "      <td>Yes</td>\n",
       "      <td>467</td>\n",
       "    </tr>\n",
       "    <tr>\n",
       "      <th>4</th>\n",
       "      <td>Upper Middle</td>\n",
       "      <td>Low</td>\n",
       "      <td>No</td>\n",
       "      <td>420</td>\n",
       "    </tr>\n",
       "    <tr>\n",
       "      <th>12</th>\n",
       "      <td>Upper Middle</td>\n",
       "      <td>Low</td>\n",
       "      <td>Yes</td>\n",
       "      <td>37</td>\n",
       "    </tr>\n",
       "  </tbody>\n",
       "</table>\n",
       "</div>"
      ]
     },
     "metadata": {},
     "output_type": "display_data"
    }
   ],
   "source": [
    "df = get_wisconsin(False)\n",
    "df_items = df.melt(ignore_index=False).reset_index()\n",
    "columns = list(\"SEP\")\n",
    "df_items.columns = columns + [\"Count\"]\n",
    "df_items = df_items.sort_values(by=columns)\n",
    "display(df_items)\n"
   ]
  },
  {
   "cell_type": "code",
   "execution_count": 99,
   "metadata": {},
   "outputs": [
    {
     "name": "stdout",
     "output_type": "stream",
     "text": [
      "2713.953831980395 10\n"
     ]
    },
    {
     "data": {
      "text/html": [
       "<table class=\"simpletable\">\n",
       "<caption>Generalized Linear Model Regression Results</caption>\n",
       "<tr>\n",
       "  <th>Dep. Variable:</th>         <td>Count</td>      <th>  No. Observations:  </th>  <td>    16</td> \n",
       "</tr>\n",
       "<tr>\n",
       "  <th>Model:</th>                  <td>GLM</td>       <th>  Df Residuals:      </th>  <td>    10</td> \n",
       "</tr>\n",
       "<tr>\n",
       "  <th>Model Family:</th>         <td>Poisson</td>     <th>  Df Model:          </th>  <td>     5</td> \n",
       "</tr>\n",
       "<tr>\n",
       "  <th>Link Function:</th>          <td>Log</td>       <th>  Scale:             </th> <td>  1.0000</td>\n",
       "</tr>\n",
       "<tr>\n",
       "  <th>Method:</th>                <td>IRLS</td>       <th>  Log-Likelihood:    </th> <td> -1413.9</td>\n",
       "</tr>\n",
       "<tr>\n",
       "  <th>Date:</th>            <td>Fri, 13 May 2022</td> <th>  Deviance:          </th> <td>  2714.0</td>\n",
       "</tr>\n",
       "<tr>\n",
       "  <th>Time:</th>                <td>10:55:45</td>     <th>  Pearson chi2:      </th> <td>3.00e+03</td>\n",
       "</tr>\n",
       "<tr>\n",
       "  <th>No. Iterations:</th>          <td>5</td>        <th>  Pseudo R-squ. (CS):</th>  <td> 1.000</td> \n",
       "</tr>\n",
       "<tr>\n",
       "  <th>Covariance Type:</th>     <td>nonrobust</td>    <th>                     </th>     <td> </td>   \n",
       "</tr>\n",
       "</table>\n",
       "<table class=\"simpletable\">\n",
       "<tr>\n",
       "         <td></td>            <th>coef</th>     <th>std err</th>      <th>z</th>      <th>P>|z|</th>  <th>[0.025</th>    <th>0.975]</th>  \n",
       "</tr>\n",
       "<tr>\n",
       "  <th>S[Lower]</th>        <td>    6.0471</td> <td>    0.034</td> <td>  179.872</td> <td> 0.000</td> <td>    5.981</td> <td>    6.113</td>\n",
       "</tr>\n",
       "<tr>\n",
       "  <th>S[Lower Middle]</th> <td>    6.1681</td> <td>    0.032</td> <td>  192.092</td> <td> 0.000</td> <td>    6.105</td> <td>    6.231</td>\n",
       "</tr>\n",
       "<tr>\n",
       "  <th>S[Upper]</th>        <td>    6.1264</td> <td>    0.033</td> <td>  187.830</td> <td> 0.000</td> <td>    6.063</td> <td>    6.190</td>\n",
       "</tr>\n",
       "<tr>\n",
       "  <th>S[Upper Middle]</th> <td>    6.1681</td> <td>    0.032</td> <td>  192.092</td> <td> 0.000</td> <td>    6.105</td> <td>    6.231</td>\n",
       "</tr>\n",
       "<tr>\n",
       "  <th>E[T.Low]</th>        <td>   -0.3320</td> <td>    0.029</td> <td>  -11.568</td> <td> 0.000</td> <td>   -0.388</td> <td>   -0.276</td>\n",
       "</tr>\n",
       "<tr>\n",
       "  <th>P[T.Yes]</th>        <td>   -0.5388</td> <td>    0.029</td> <td>  -18.362</td> <td> 0.000</td> <td>   -0.596</td> <td>   -0.481</td>\n",
       "</tr>\n",
       "</table>"
      ]
     },
     "execution_count": 99,
     "metadata": {},
     "output_type": "execute_result"
    }
   ],
   "source": [
    "model = smf.glm(\"Count ~ S + E + P - 1\", data=df_items, family=sm.families.Poisson(sm.families.links.Log())).fit()\n",
    "print(model.deviance, model.df_resid)\n",
    "model.summary()\n"
   ]
  },
  {
   "cell_type": "code",
   "execution_count": 126,
   "metadata": {},
   "outputs": [
    {
     "data": {
      "text/html": [
       "<pre style=\"white-space:pre;overflow-x:auto;line-height:normal;font-family:Menlo,'DejaVu Sans Mono',consolas,'Courier New',monospace\">\n",
       "<span style=\"font-weight: bold\">[</span>\n",
       "    <span style=\"font-weight: bold\">[(</span><span style=\"color: #008000; text-decoration-color: #008000\">'P'</span>,<span style=\"font-weight: bold\">)</span>, <span style=\"font-weight: bold\">(</span><span style=\"color: #008000; text-decoration-color: #008000\">'S'</span>,<span style=\"font-weight: bold\">)</span>, <span style=\"font-weight: bold\">(</span><span style=\"color: #008000; text-decoration-color: #008000\">'E'</span>,<span style=\"font-weight: bold\">)]</span>,\n",
       "    <span style=\"font-weight: bold\">[(</span><span style=\"color: #008000; text-decoration-color: #008000\">'S'</span>, <span style=\"color: #008000; text-decoration-color: #008000\">'E'</span><span style=\"font-weight: bold\">)</span>, <span style=\"font-weight: bold\">(</span><span style=\"color: #008000; text-decoration-color: #008000\">'P'</span>,<span style=\"font-weight: bold\">)]</span>,\n",
       "    <span style=\"font-weight: bold\">[(</span><span style=\"color: #008000; text-decoration-color: #008000\">'E'</span>, <span style=\"color: #008000; text-decoration-color: #008000\">'P'</span><span style=\"font-weight: bold\">)</span>, <span style=\"font-weight: bold\">(</span><span style=\"color: #008000; text-decoration-color: #008000\">'S'</span>,<span style=\"font-weight: bold\">)]</span>,\n",
       "    <span style=\"font-weight: bold\">[(</span><span style=\"color: #008000; text-decoration-color: #008000\">'S'</span>, <span style=\"color: #008000; text-decoration-color: #008000\">'P'</span><span style=\"font-weight: bold\">)</span>, <span style=\"font-weight: bold\">(</span><span style=\"color: #008000; text-decoration-color: #008000\">'E'</span>,<span style=\"font-weight: bold\">)]</span>,\n",
       "    <span style=\"font-weight: bold\">[(</span><span style=\"color: #008000; text-decoration-color: #008000\">'S'</span>, <span style=\"color: #008000; text-decoration-color: #008000\">'E'</span><span style=\"font-weight: bold\">)</span>, <span style=\"font-weight: bold\">(</span><span style=\"color: #008000; text-decoration-color: #008000\">'E'</span>, <span style=\"color: #008000; text-decoration-color: #008000\">'P'</span><span style=\"font-weight: bold\">)]</span>,\n",
       "    <span style=\"font-weight: bold\">[(</span><span style=\"color: #008000; text-decoration-color: #008000\">'S'</span>, <span style=\"color: #008000; text-decoration-color: #008000\">'E'</span><span style=\"font-weight: bold\">)</span>, <span style=\"font-weight: bold\">(</span><span style=\"color: #008000; text-decoration-color: #008000\">'S'</span>, <span style=\"color: #008000; text-decoration-color: #008000\">'P'</span><span style=\"font-weight: bold\">)]</span>,\n",
       "    <span style=\"font-weight: bold\">[(</span><span style=\"color: #008000; text-decoration-color: #008000\">'E'</span>, <span style=\"color: #008000; text-decoration-color: #008000\">'P'</span><span style=\"font-weight: bold\">)</span>, <span style=\"font-weight: bold\">(</span><span style=\"color: #008000; text-decoration-color: #008000\">'S'</span>, <span style=\"color: #008000; text-decoration-color: #008000\">'P'</span><span style=\"font-weight: bold\">)]</span>,\n",
       "    <span style=\"font-weight: bold\">[(</span><span style=\"color: #008000; text-decoration-color: #008000\">'S'</span>, <span style=\"color: #008000; text-decoration-color: #008000\">'E'</span><span style=\"font-weight: bold\">)</span>, <span style=\"font-weight: bold\">(</span><span style=\"color: #008000; text-decoration-color: #008000\">'E'</span>, <span style=\"color: #008000; text-decoration-color: #008000\">'P'</span><span style=\"font-weight: bold\">)</span>, <span style=\"font-weight: bold\">(</span><span style=\"color: #008000; text-decoration-color: #008000\">'S'</span>, <span style=\"color: #008000; text-decoration-color: #008000\">'P'</span><span style=\"font-weight: bold\">)]</span>\n",
       "<span style=\"font-weight: bold\">]</span>\n",
       "</pre>\n"
      ],
      "text/plain": [
       "\n",
       "\u001b[1m[\u001b[0m\n",
       "    \u001b[1m[\u001b[0m\u001b[1m(\u001b[0m\u001b[32m'P'\u001b[0m,\u001b[1m)\u001b[0m, \u001b[1m(\u001b[0m\u001b[32m'S'\u001b[0m,\u001b[1m)\u001b[0m, \u001b[1m(\u001b[0m\u001b[32m'E'\u001b[0m,\u001b[1m)\u001b[0m\u001b[1m]\u001b[0m,\n",
       "    \u001b[1m[\u001b[0m\u001b[1m(\u001b[0m\u001b[32m'S'\u001b[0m, \u001b[32m'E'\u001b[0m\u001b[1m)\u001b[0m, \u001b[1m(\u001b[0m\u001b[32m'P'\u001b[0m,\u001b[1m)\u001b[0m\u001b[1m]\u001b[0m,\n",
       "    \u001b[1m[\u001b[0m\u001b[1m(\u001b[0m\u001b[32m'E'\u001b[0m, \u001b[32m'P'\u001b[0m\u001b[1m)\u001b[0m, \u001b[1m(\u001b[0m\u001b[32m'S'\u001b[0m,\u001b[1m)\u001b[0m\u001b[1m]\u001b[0m,\n",
       "    \u001b[1m[\u001b[0m\u001b[1m(\u001b[0m\u001b[32m'S'\u001b[0m, \u001b[32m'P'\u001b[0m\u001b[1m)\u001b[0m, \u001b[1m(\u001b[0m\u001b[32m'E'\u001b[0m,\u001b[1m)\u001b[0m\u001b[1m]\u001b[0m,\n",
       "    \u001b[1m[\u001b[0m\u001b[1m(\u001b[0m\u001b[32m'S'\u001b[0m, \u001b[32m'E'\u001b[0m\u001b[1m)\u001b[0m, \u001b[1m(\u001b[0m\u001b[32m'E'\u001b[0m, \u001b[32m'P'\u001b[0m\u001b[1m)\u001b[0m\u001b[1m]\u001b[0m,\n",
       "    \u001b[1m[\u001b[0m\u001b[1m(\u001b[0m\u001b[32m'S'\u001b[0m, \u001b[32m'E'\u001b[0m\u001b[1m)\u001b[0m, \u001b[1m(\u001b[0m\u001b[32m'S'\u001b[0m, \u001b[32m'P'\u001b[0m\u001b[1m)\u001b[0m\u001b[1m]\u001b[0m,\n",
       "    \u001b[1m[\u001b[0m\u001b[1m(\u001b[0m\u001b[32m'E'\u001b[0m, \u001b[32m'P'\u001b[0m\u001b[1m)\u001b[0m, \u001b[1m(\u001b[0m\u001b[32m'S'\u001b[0m, \u001b[32m'P'\u001b[0m\u001b[1m)\u001b[0m\u001b[1m]\u001b[0m,\n",
       "    \u001b[1m[\u001b[0m\u001b[1m(\u001b[0m\u001b[32m'S'\u001b[0m, \u001b[32m'E'\u001b[0m\u001b[1m)\u001b[0m, \u001b[1m(\u001b[0m\u001b[32m'E'\u001b[0m, \u001b[32m'P'\u001b[0m\u001b[1m)\u001b[0m, \u001b[1m(\u001b[0m\u001b[32m'S'\u001b[0m, \u001b[32m'P'\u001b[0m\u001b[1m)\u001b[0m\u001b[1m]\u001b[0m\n",
       "\u001b[1m]\u001b[0m\n"
      ]
     },
     "metadata": {},
     "output_type": "display_data"
    }
   ],
   "source": [
    "nb_products = len(columns) - 1  # sans 1 : saturé\n",
    "\n",
    "\n",
    "def gen_models():\n",
    "    all_pairs = set(combinations(columns, 2))\n",
    "    all_models = []\n",
    "    for i in range(len(all_pairs) + 1):\n",
    "        # print(f\"len {i}: {list(combinations(all_pairs, i))}\")\n",
    "        all_models.extend(list(l) for l in combinations(all_pairs, i))\n",
    "\n",
    "    # complete\n",
    "    for choice in all_models:\n",
    "        used = set(a for c in choice for a in c)\n",
    "        free = set(columns) - used\n",
    "        choice.extend((f,) for f in free)\n",
    "    return all_models # [sorted(sorted(p) for p in m) for m in all_models]\n",
    "\n",
    "gen_models()"
   ]
  },
  {
   "cell_type": "code",
   "execution_count": 127,
   "metadata": {},
   "outputs": [
    {
     "name": "stdout",
     "output_type": "stream",
     "text": [
      "Count ~ P + S + E\n",
      "Count ~ S * E + P\n",
      "Count ~ E * P + S\n",
      "Count ~ S * P + E\n",
      "Count ~ S * E + E * P\n",
      "Count ~ S * E + S * P\n",
      "Count ~ E * P + S * P\n",
      "Count ~ S * E + E * P + S * P\n"
     ]
    },
    {
     "data": {
      "text/html": [
       "<pre style=\"white-space:pre;overflow-x:auto;line-height:normal;font-family:Menlo,'DejaVu Sans Mono',consolas,'Courier New',monospace\">\n",
       "<span style=\"font-weight: bold\">{</span>\n",
       "    <span style=\"color: #008000; text-decoration-color: #008000\">'P + S + E'</span>: <span style=\"font-weight: bold\">(</span><span style=\"color: #008080; text-decoration-color: #008080; font-weight: bold\">2713.9538319803946</span>, <span style=\"color: #008080; text-decoration-color: #008080; font-weight: bold\">10</span>, <span style=\"color: #008080; text-decoration-color: #008080; font-weight: bold\">5</span><span style=\"font-weight: bold\">)</span>,\n",
       "    <span style=\"color: #008000; text-decoration-color: #008000\">'S * E + P'</span>: <span style=\"font-weight: bold\">(</span><span style=\"color: #008080; text-decoration-color: #008080; font-weight: bold\">1877.3816276612977</span>, <span style=\"color: #008080; text-decoration-color: #008080; font-weight: bold\">7</span>, <span style=\"color: #008080; text-decoration-color: #008080; font-weight: bold\">8</span><span style=\"font-weight: bold\">)</span>,\n",
       "    <span style=\"color: #008000; text-decoration-color: #008000\">'E * P + S'</span>: <span style=\"font-weight: bold\">(</span><span style=\"color: #008080; text-decoration-color: #008080; font-weight: bold\">1092.039989856524</span>, <span style=\"color: #008080; text-decoration-color: #008080; font-weight: bold\">9</span>, <span style=\"color: #008080; text-decoration-color: #008080; font-weight: bold\">6</span><span style=\"font-weight: bold\">)</span>,\n",
       "    <span style=\"color: #008000; text-decoration-color: #008000\">'S * P + E'</span>: <span style=\"font-weight: bold\">(</span><span style=\"color: #008080; text-decoration-color: #008080; font-weight: bold\">1920.398999604215</span>, <span style=\"color: #008080; text-decoration-color: #008080; font-weight: bold\">7</span>, <span style=\"color: #008080; text-decoration-color: #008080; font-weight: bold\">8</span><span style=\"font-weight: bold\">)</span>,\n",
       "    <span style=\"color: #008000; text-decoration-color: #008000\">'S * E + E * P'</span>: <span style=\"font-weight: bold\">(</span><span style=\"color: #008080; text-decoration-color: #008080; font-weight: bold\">255.46778553742604</span>, <span style=\"color: #008080; text-decoration-color: #008080; font-weight: bold\">6</span>, <span style=\"color: #008080; text-decoration-color: #008080; font-weight: bold\">9</span><span style=\"font-weight: bold\">)</span>,\n",
       "    <span style=\"color: #008000; text-decoration-color: #008000\">'S * E + S * P'</span>: <span style=\"font-weight: bold\">(</span><span style=\"color: #008080; text-decoration-color: #008080; font-weight: bold\">1083.826795285117</span>, <span style=\"color: #008080; text-decoration-color: #008080; font-weight: bold\">4</span>, <span style=\"color: #008080; text-decoration-color: #008080; font-weight: bold\">11</span><span style=\"font-weight: bold\">)</span>,\n",
       "    <span style=\"color: #008000; text-decoration-color: #008000\">'E * P + S * P'</span>: <span style=\"font-weight: bold\">(</span><span style=\"color: #008080; text-decoration-color: #008080; font-weight: bold\">298.4851574803441</span>, <span style=\"color: #008080; text-decoration-color: #008080; font-weight: bold\">6</span>, <span style=\"color: #008080; text-decoration-color: #008080; font-weight: bold\">9</span><span style=\"font-weight: bold\">)</span>,\n",
       "    <span style=\"color: #008000; text-decoration-color: #008000\">'S * E + E * P + S * P'</span>: <span style=\"font-weight: bold\">(</span><span style=\"color: #008080; text-decoration-color: #008080; font-weight: bold\">1.5754679838712584</span>, <span style=\"color: #008080; text-decoration-color: #008080; font-weight: bold\">3</span>, <span style=\"color: #008080; text-decoration-color: #008080; font-weight: bold\">12</span><span style=\"font-weight: bold\">)</span>\n",
       "<span style=\"font-weight: bold\">}</span>\n",
       "</pre>\n"
      ],
      "text/plain": [
       "\n",
       "\u001b[1m{\u001b[0m\n",
       "    \u001b[32m'P + S + E'\u001b[0m: \u001b[1m(\u001b[0m\u001b[1;36m2713.9538319803946\u001b[0m, \u001b[1;36m10\u001b[0m, \u001b[1;36m5\u001b[0m\u001b[1m)\u001b[0m,\n",
       "    \u001b[32m'S * E + P'\u001b[0m: \u001b[1m(\u001b[0m\u001b[1;36m1877.3816276612977\u001b[0m, \u001b[1;36m7\u001b[0m, \u001b[1;36m8\u001b[0m\u001b[1m)\u001b[0m,\n",
       "    \u001b[32m'E * P + S'\u001b[0m: \u001b[1m(\u001b[0m\u001b[1;36m1092.039989856524\u001b[0m, \u001b[1;36m9\u001b[0m, \u001b[1;36m6\u001b[0m\u001b[1m)\u001b[0m,\n",
       "    \u001b[32m'S * P + E'\u001b[0m: \u001b[1m(\u001b[0m\u001b[1;36m1920.398999604215\u001b[0m, \u001b[1;36m7\u001b[0m, \u001b[1;36m8\u001b[0m\u001b[1m)\u001b[0m,\n",
       "    \u001b[32m'S * E + E * P'\u001b[0m: \u001b[1m(\u001b[0m\u001b[1;36m255.46778553742604\u001b[0m, \u001b[1;36m6\u001b[0m, \u001b[1;36m9\u001b[0m\u001b[1m)\u001b[0m,\n",
       "    \u001b[32m'S * E + S * P'\u001b[0m: \u001b[1m(\u001b[0m\u001b[1;36m1083.826795285117\u001b[0m, \u001b[1;36m4\u001b[0m, \u001b[1;36m11\u001b[0m\u001b[1m)\u001b[0m,\n",
       "    \u001b[32m'E * P + S * P'\u001b[0m: \u001b[1m(\u001b[0m\u001b[1;36m298.4851574803441\u001b[0m, \u001b[1;36m6\u001b[0m, \u001b[1;36m9\u001b[0m\u001b[1m)\u001b[0m,\n",
       "    \u001b[32m'S * E + E * P + S * P'\u001b[0m: \u001b[1m(\u001b[0m\u001b[1;36m1.5754679838712584\u001b[0m, \u001b[1;36m3\u001b[0m, \u001b[1;36m12\u001b[0m\u001b[1m)\u001b[0m\n",
       "\u001b[1m}\u001b[0m\n"
      ]
     },
     "metadata": {},
     "output_type": "display_data"
    }
   ],
   "source": [
    "res = {}\n",
    "for model in gen_models():\n",
    "    formula = \" + \".join(\" * \".join(term) for term in model)  # * or : is the same ?\n",
    "    full_formula = f\"Count ~ {formula}\"\n",
    "    print(full_formula)\n",
    "    model = smf.glm(full_formula, data=df_items, family=sm.families.Poisson(sm.families.links.Log())).fit()\n",
    "    # display(model.summary2())\n",
    "    res[formula] = (model.deviance, model.df_resid, model.df_model)\n",
    "\n",
    "res\n"
   ]
  },
  {
   "cell_type": "code",
   "execution_count": 128,
   "metadata": {},
   "outputs": [
    {
     "data": {
      "text/html": [
       "<div>\n",
       "<style scoped>\n",
       "    .dataframe tbody tr th:only-of-type {\n",
       "        vertical-align: middle;\n",
       "    }\n",
       "\n",
       "    .dataframe tbody tr th {\n",
       "        vertical-align: top;\n",
       "    }\n",
       "\n",
       "    .dataframe thead th {\n",
       "        text-align: right;\n",
       "    }\n",
       "</style>\n",
       "<table border=\"1\" class=\"dataframe\">\n",
       "  <thead>\n",
       "    <tr style=\"text-align: right;\">\n",
       "      <th></th>\n",
       "      <th>Deviance</th>\n",
       "      <th>DoF residuals</th>\n",
       "      <th>DoF model</th>\n",
       "    </tr>\n",
       "    <tr>\n",
       "      <th>Model</th>\n",
       "      <th></th>\n",
       "      <th></th>\n",
       "      <th></th>\n",
       "    </tr>\n",
       "  </thead>\n",
       "  <tbody>\n",
       "    <tr>\n",
       "      <th>P + S + E</th>\n",
       "      <td>2714.0</td>\n",
       "      <td>10</td>\n",
       "      <td>5</td>\n",
       "    </tr>\n",
       "    <tr>\n",
       "      <th>S * E + P</th>\n",
       "      <td>1877.4</td>\n",
       "      <td>7</td>\n",
       "      <td>8</td>\n",
       "    </tr>\n",
       "    <tr>\n",
       "      <th>E * P + S</th>\n",
       "      <td>1092.0</td>\n",
       "      <td>9</td>\n",
       "      <td>6</td>\n",
       "    </tr>\n",
       "    <tr>\n",
       "      <th>S * P + E</th>\n",
       "      <td>1920.4</td>\n",
       "      <td>7</td>\n",
       "      <td>8</td>\n",
       "    </tr>\n",
       "    <tr>\n",
       "      <th>S * E + E * P</th>\n",
       "      <td>255.5</td>\n",
       "      <td>6</td>\n",
       "      <td>9</td>\n",
       "    </tr>\n",
       "    <tr>\n",
       "      <th>S * E + S * P</th>\n",
       "      <td>1083.8</td>\n",
       "      <td>4</td>\n",
       "      <td>11</td>\n",
       "    </tr>\n",
       "    <tr>\n",
       "      <th>E * P + S * P</th>\n",
       "      <td>298.5</td>\n",
       "      <td>6</td>\n",
       "      <td>9</td>\n",
       "    </tr>\n",
       "    <tr>\n",
       "      <th>S * E + E * P + S * P</th>\n",
       "      <td>1.6</td>\n",
       "      <td>3</td>\n",
       "      <td>12</td>\n",
       "    </tr>\n",
       "  </tbody>\n",
       "</table>\n",
       "</div>"
      ]
     },
     "metadata": {},
     "output_type": "display_data"
    }
   ],
   "source": [
    "# for m, (dev, dof_resid, dof_model) in sorted(res.items(), key=lambda x:-x[1][0]):\n",
    "#     print(m, dev, dof_resid, dof_model)\n",
    "\n",
    "df_res = pd.DataFrame(((k,) + v for k, v in res.items()), columns=[\"Model\", \"Deviance\", \"DoF residuals\", \"DoF model\"]).set_index(\"Model\")\n",
    "pd.set_option(\"display.precision\", 1)\n",
    "display(df_res)\n"
   ]
  },
  {
   "cell_type": "code",
   "execution_count": 129,
   "metadata": {},
   "outputs": [
    {
     "data": {
      "text/html": [
       "<div>\n",
       "<style scoped>\n",
       "    .dataframe tbody tr th:only-of-type {\n",
       "        vertical-align: middle;\n",
       "    }\n",
       "\n",
       "    .dataframe tbody tr th {\n",
       "        vertical-align: top;\n",
       "    }\n",
       "\n",
       "    .dataframe thead th {\n",
       "        text-align: right;\n",
       "    }\n",
       "</style>\n",
       "<table border=\"1\" class=\"dataframe\">\n",
       "  <thead>\n",
       "    <tr style=\"text-align: right;\">\n",
       "      <th></th>\n",
       "      <th>Deviance</th>\n",
       "      <th>DoF residuals</th>\n",
       "      <th>DoF model</th>\n",
       "      <th>Delta dev.</th>\n",
       "      <th>Delta dev./dof model</th>\n",
       "      <th>Dev./dof res</th>\n",
       "    </tr>\n",
       "    <tr>\n",
       "      <th>Model</th>\n",
       "      <th></th>\n",
       "      <th></th>\n",
       "      <th></th>\n",
       "      <th></th>\n",
       "      <th></th>\n",
       "      <th></th>\n",
       "    </tr>\n",
       "  </thead>\n",
       "  <tbody>\n",
       "    <tr>\n",
       "      <th>P + S + E</th>\n",
       "      <td>2714.0</td>\n",
       "      <td>10</td>\n",
       "      <td>5</td>\n",
       "      <td>0.0</td>\n",
       "      <td>0.0</td>\n",
       "      <td>271.4</td>\n",
       "    </tr>\n",
       "    <tr>\n",
       "      <th>S * E + P</th>\n",
       "      <td>1877.4</td>\n",
       "      <td>7</td>\n",
       "      <td>8</td>\n",
       "      <td>836.6</td>\n",
       "      <td>104.6</td>\n",
       "      <td>268.2</td>\n",
       "    </tr>\n",
       "    <tr>\n",
       "      <th>E * P + S</th>\n",
       "      <td>1092.0</td>\n",
       "      <td>9</td>\n",
       "      <td>6</td>\n",
       "      <td>1621.9</td>\n",
       "      <td>270.3</td>\n",
       "      <td>121.3</td>\n",
       "    </tr>\n",
       "    <tr>\n",
       "      <th>S * P + E</th>\n",
       "      <td>1920.4</td>\n",
       "      <td>7</td>\n",
       "      <td>8</td>\n",
       "      <td>793.6</td>\n",
       "      <td>99.2</td>\n",
       "      <td>274.3</td>\n",
       "    </tr>\n",
       "    <tr>\n",
       "      <th>S * E + E * P</th>\n",
       "      <td>255.5</td>\n",
       "      <td>6</td>\n",
       "      <td>9</td>\n",
       "      <td>2458.5</td>\n",
       "      <td>273.2</td>\n",
       "      <td>42.6</td>\n",
       "    </tr>\n",
       "    <tr>\n",
       "      <th>S * E + S * P</th>\n",
       "      <td>1083.8</td>\n",
       "      <td>4</td>\n",
       "      <td>11</td>\n",
       "      <td>1630.1</td>\n",
       "      <td>148.2</td>\n",
       "      <td>271.0</td>\n",
       "    </tr>\n",
       "    <tr>\n",
       "      <th>E * P + S * P</th>\n",
       "      <td>298.5</td>\n",
       "      <td>6</td>\n",
       "      <td>9</td>\n",
       "      <td>2415.5</td>\n",
       "      <td>268.4</td>\n",
       "      <td>49.7</td>\n",
       "    </tr>\n",
       "    <tr>\n",
       "      <th>S * E + E * P + S * P</th>\n",
       "      <td>1.6</td>\n",
       "      <td>3</td>\n",
       "      <td>12</td>\n",
       "      <td>2712.4</td>\n",
       "      <td>226.0</td>\n",
       "      <td>0.5</td>\n",
       "    </tr>\n",
       "  </tbody>\n",
       "</table>\n",
       "</div>"
      ]
     },
     "metadata": {},
     "output_type": "display_data"
    }
   ],
   "source": [
    "# arr = m.sort_values(by= columns)[\"Count\"].to_numpy().reshape(4,2,2)\n",
    "# stats.chi2_contingency(arr, lambda_=\"log-likelihood\")\n",
    "ref_dev = df_res.loc[\"P + S + E\", \"Deviance\"]\n",
    "df_res[\"Delta dev.\"] = (ref_dev - df_res[\"Deviance\"])\n",
    "df_res[\"Delta dev./dof model\"] = df_res[\"Delta dev.\"]/df_res[\"DoF model\"]\n",
    "df_res[\"Dev./dof res\"] = df_res[\"Deviance\"]/df_res[\"DoF residuals\"]\n",
    "display(df_res)\n"
   ]
  },
  {
   "cell_type": "code",
   "execution_count": 130,
   "metadata": {},
   "outputs": [
    {
     "data": {
      "text/html": [
       "<div>\n",
       "<style scoped>\n",
       "    .dataframe tbody tr th:only-of-type {\n",
       "        vertical-align: middle;\n",
       "    }\n",
       "\n",
       "    .dataframe tbody tr th {\n",
       "        vertical-align: top;\n",
       "    }\n",
       "\n",
       "    .dataframe thead th {\n",
       "        text-align: right;\n",
       "    }\n",
       "</style>\n",
       "<table border=\"1\" class=\"dataframe\">\n",
       "  <thead>\n",
       "    <tr style=\"text-align: right;\">\n",
       "      <th></th>\n",
       "      <th>P</th>\n",
       "      <th>No</th>\n",
       "      <th>Yes</th>\n",
       "    </tr>\n",
       "    <tr>\n",
       "      <th>S</th>\n",
       "      <th>E</th>\n",
       "      <th></th>\n",
       "      <th></th>\n",
       "    </tr>\n",
       "  </thead>\n",
       "  <tbody>\n",
       "    <tr>\n",
       "      <th rowspan=\"2\" valign=\"top\">Lower</th>\n",
       "      <th>High</th>\n",
       "      <td>228.9</td>\n",
       "      <td>137.1</td>\n",
       "    </tr>\n",
       "    <tr>\n",
       "      <th>Low</th>\n",
       "      <td>753.1</td>\n",
       "      <td>30.9</td>\n",
       "    </tr>\n",
       "    <tr>\n",
       "      <th rowspan=\"2\" valign=\"top\">Lower Middle</th>\n",
       "      <th>High</th>\n",
       "      <td>331.0</td>\n",
       "      <td>302.0</td>\n",
       "    </tr>\n",
       "    <tr>\n",
       "      <th>Low</th>\n",
       "      <td>626.0</td>\n",
       "      <td>39.0</td>\n",
       "    </tr>\n",
       "    <tr>\n",
       "      <th rowspan=\"2\" valign=\"top\">Upper</th>\n",
       "      <th>High</th>\n",
       "      <td>270.0</td>\n",
       "      <td>796.0</td>\n",
       "    </tr>\n",
       "    <tr>\n",
       "      <th>Low</th>\n",
       "      <td>149.0</td>\n",
       "      <td>30.0</td>\n",
       "    </tr>\n",
       "    <tr>\n",
       "      <th rowspan=\"2\" valign=\"top\">Upper Middle</th>\n",
       "      <th>High</th>\n",
       "      <td>373.1</td>\n",
       "      <td>467.9</td>\n",
       "    </tr>\n",
       "    <tr>\n",
       "      <th>Low</th>\n",
       "      <td>420.9</td>\n",
       "      <td>36.1</td>\n",
       "    </tr>\n",
       "  </tbody>\n",
       "</table>\n",
       "</div>"
      ]
     },
     "execution_count": 130,
     "metadata": {},
     "output_type": "execute_result"
    }
   ],
   "source": [
    "uniform_model = model # the last one\n",
    "pred = uniform_model.predict().reshape(4,2,2)\n",
    "df_items[\"Pred\"] = pred.flatten()\n",
    "df_items.pivot(index = [\"S\", 'E'], columns=[\"P\"], values=\"Pred\")"
   ]
  },
  {
   "cell_type": "code",
   "execution_count": 132,
   "metadata": {},
   "outputs": [
    {
     "data": {
      "text/html": [
       "<div>\n",
       "<style scoped>\n",
       "    .dataframe tbody tr th:only-of-type {\n",
       "        vertical-align: middle;\n",
       "    }\n",
       "\n",
       "    .dataframe tbody tr th {\n",
       "        vertical-align: top;\n",
       "    }\n",
       "\n",
       "    .dataframe thead th {\n",
       "        text-align: right;\n",
       "    }\n",
       "</style>\n",
       "<table border=\"1\" class=\"dataframe\">\n",
       "  <thead>\n",
       "    <tr style=\"text-align: right;\">\n",
       "      <th></th>\n",
       "      <th>College Plans</th>\n",
       "      <th>No</th>\n",
       "      <th>Yes</th>\n",
       "      <th>Pr</th>\n",
       "    </tr>\n",
       "  </thead>\n",
       "  <tbody>\n",
       "    <tr>\n",
       "      <th rowspan=\"2\" valign=\"top\">Lower</th>\n",
       "      <th>Low</th>\n",
       "      <td>749</td>\n",
       "      <td>35</td>\n",
       "      <td>4.4e-02</td>\n",
       "    </tr>\n",
       "    <tr>\n",
       "      <th>High</th>\n",
       "      <td>233</td>\n",
       "      <td>133</td>\n",
       "      <td>3.3e-01</td>\n",
       "    </tr>\n",
       "    <tr>\n",
       "      <th rowspan=\"2\" valign=\"top\">Lower Middle</th>\n",
       "      <th>Low</th>\n",
       "      <td>627</td>\n",
       "      <td>38</td>\n",
       "      <td>5.7e-02</td>\n",
       "    </tr>\n",
       "    <tr>\n",
       "      <th>High</th>\n",
       "      <td>330</td>\n",
       "      <td>303</td>\n",
       "      <td>4.5e-01</td>\n",
       "    </tr>\n",
       "    <tr>\n",
       "      <th rowspan=\"2\" valign=\"top\">Upper Middle</th>\n",
       "      <th>Low</th>\n",
       "      <td>420</td>\n",
       "      <td>37</td>\n",
       "      <td>8.0e-02</td>\n",
       "    </tr>\n",
       "    <tr>\n",
       "      <th>High</th>\n",
       "      <td>374</td>\n",
       "      <td>467</td>\n",
       "      <td>5.2e-01</td>\n",
       "    </tr>\n",
       "    <tr>\n",
       "      <th rowspan=\"2\" valign=\"top\">Upper</th>\n",
       "      <th>Low</th>\n",
       "      <td>153</td>\n",
       "      <td>26</td>\n",
       "      <td>1.3e-01</td>\n",
       "    </tr>\n",
       "    <tr>\n",
       "      <th>High</th>\n",
       "      <td>266</td>\n",
       "      <td>800</td>\n",
       "      <td>7.0e-01</td>\n",
       "    </tr>\n",
       "  </tbody>\n",
       "</table>\n",
       "</div>"
      ]
     },
     "execution_count": 132,
     "metadata": {},
     "output_type": "execute_result"
    }
   ],
   "source": [
    "df[\"Pr\"] = df[\"Yes\"]/df.sum(axis=1)\n",
    "df"
   ]
  },
  {
   "cell_type": "code",
   "execution_count": 142,
   "metadata": {},
   "outputs": [
    {
     "data": {
      "text/html": [
       "<div>\n",
       "<style scoped>\n",
       "    .dataframe tbody tr th:only-of-type {\n",
       "        vertical-align: middle;\n",
       "    }\n",
       "\n",
       "    .dataframe tbody tr th {\n",
       "        vertical-align: top;\n",
       "    }\n",
       "\n",
       "    .dataframe thead th {\n",
       "        text-align: right;\n",
       "    }\n",
       "</style>\n",
       "<table border=\"1\" class=\"dataframe\">\n",
       "  <thead>\n",
       "    <tr style=\"text-align: right;\">\n",
       "      <th></th>\n",
       "      <th>S</th>\n",
       "      <th>E</th>\n",
       "      <th>Pr</th>\n",
       "    </tr>\n",
       "  </thead>\n",
       "  <tbody>\n",
       "    <tr>\n",
       "      <th>0</th>\n",
       "      <td>Lower</td>\n",
       "      <td>Low</td>\n",
       "      <td>4.4e-02</td>\n",
       "    </tr>\n",
       "    <tr>\n",
       "      <th>1</th>\n",
       "      <td>Lower</td>\n",
       "      <td>High</td>\n",
       "      <td>3.3e-01</td>\n",
       "    </tr>\n",
       "    <tr>\n",
       "      <th>2</th>\n",
       "      <td>Lower Middle</td>\n",
       "      <td>Low</td>\n",
       "      <td>5.7e-02</td>\n",
       "    </tr>\n",
       "    <tr>\n",
       "      <th>3</th>\n",
       "      <td>Lower Middle</td>\n",
       "      <td>High</td>\n",
       "      <td>4.5e-01</td>\n",
       "    </tr>\n",
       "    <tr>\n",
       "      <th>4</th>\n",
       "      <td>Upper Middle</td>\n",
       "      <td>Low</td>\n",
       "      <td>8.0e-02</td>\n",
       "    </tr>\n",
       "    <tr>\n",
       "      <th>5</th>\n",
       "      <td>Upper Middle</td>\n",
       "      <td>High</td>\n",
       "      <td>5.2e-01</td>\n",
       "    </tr>\n",
       "    <tr>\n",
       "      <th>6</th>\n",
       "      <td>Upper</td>\n",
       "      <td>Low</td>\n",
       "      <td>1.3e-01</td>\n",
       "    </tr>\n",
       "    <tr>\n",
       "      <th>7</th>\n",
       "      <td>Upper</td>\n",
       "      <td>High</td>\n",
       "      <td>7.0e-01</td>\n",
       "    </tr>\n",
       "  </tbody>\n",
       "</table>\n",
       "</div>"
      ]
     },
     "execution_count": 142,
     "metadata": {},
     "output_type": "execute_result"
    }
   ],
   "source": [
    "df_log = df.drop(columns=[\"Yes\", \"No\"])\n",
    "df_log = df_log.melt(ignore_index=False).reset_index().drop(columns=[\"College Plans\"])\n",
    "df_log.columns = [\"S\", \"E\", \"Pr\"]\n",
    "df_log"
   ]
  },
  {
   "cell_type": "markdown",
   "metadata": {},
   "source": [
    "Logit"
   ]
  },
  {
   "cell_type": "code",
   "execution_count": 149,
   "metadata": {},
   "outputs": [
    {
     "data": {
      "text/html": [
       "<table class=\"simpletable\">\n",
       "<caption>Generalized Linear Model Regression Results</caption>\n",
       "<tr>\n",
       "  <th>Dep. Variable:</th>          <td>Pr</td>        <th>  No. Observations:  </th>  <td>     8</td>  \n",
       "</tr>\n",
       "<tr>\n",
       "  <th>Model:</th>                  <td>GLM</td>       <th>  Df Residuals:      </th>  <td>     7</td>  \n",
       "</tr>\n",
       "<tr>\n",
       "  <th>Model Family:</th>        <td>Binomial</td>     <th>  Df Model:          </th>  <td>     0</td>  \n",
       "</tr>\n",
       "<tr>\n",
       "  <th>Link Function:</th>         <td>Logit</td>      <th>  Scale:             </th> <td>  1.0000</td> \n",
       "</tr>\n",
       "<tr>\n",
       "  <th>Method:</th>                <td>IRLS</td>       <th>  Log-Likelihood:    </th> <td> -3.6304</td> \n",
       "</tr>\n",
       "<tr>\n",
       "  <th>Date:</th>            <td>Fri, 13 May 2022</td> <th>  Deviance:          </th> <td>  2.2302</td> \n",
       "</tr>\n",
       "<tr>\n",
       "  <th>Time:</th>                <td>11:46:18</td>     <th>  Pearson chi2:      </th>  <td>  2.10</td>  \n",
       "</tr>\n",
       "<tr>\n",
       "  <th>No. Iterations:</th>          <td>4</td>        <th>  Pseudo R-squ. (CS):</th> <td>2.220e-16</td>\n",
       "</tr>\n",
       "<tr>\n",
       "  <th>Covariance Type:</th>     <td>nonrobust</td>    <th>                     </th>     <td> </td>    \n",
       "</tr>\n",
       "</table>\n",
       "<table class=\"simpletable\">\n",
       "<tr>\n",
       "      <td></td>         <th>coef</th>     <th>std err</th>      <th>z</th>      <th>P>|z|</th>  <th>[0.025</th>    <th>0.975]</th>  \n",
       "</tr>\n",
       "<tr>\n",
       "  <th>Intercept</th> <td>   -0.8999</td> <td>    0.780</td> <td>   -1.154</td> <td> 0.249</td> <td>   -2.428</td> <td>    0.629</td>\n",
       "</tr>\n",
       "</table>"
      ]
     },
     "metadata": {},
     "output_type": "display_data"
    },
    {
     "data": {
      "text/html": [
       "<pre style=\"white-space:pre;overflow-x:auto;line-height:normal;font-family:Menlo,'DejaVu Sans Mono',consolas,'Courier New',monospace\"><span style=\"color: #800080; text-decoration-color: #800080; font-weight: bold\">array</span><span style=\"font-weight: bold\">([</span><span style=\"color: #008080; text-decoration-color: #008080; font-weight: bold\">0.289</span>, <span style=\"color: #008080; text-decoration-color: #008080; font-weight: bold\">0.289</span>, <span style=\"color: #008080; text-decoration-color: #008080; font-weight: bold\">0.289</span>, <span style=\"color: #008080; text-decoration-color: #008080; font-weight: bold\">0.289</span>, <span style=\"color: #008080; text-decoration-color: #008080; font-weight: bold\">0.289</span>, <span style=\"color: #008080; text-decoration-color: #008080; font-weight: bold\">0.289</span>, <span style=\"color: #008080; text-decoration-color: #008080; font-weight: bold\">0.289</span>, <span style=\"color: #008080; text-decoration-color: #008080; font-weight: bold\">0.289</span><span style=\"font-weight: bold\">])</span>\n",
       "</pre>\n"
      ],
      "text/plain": [
       "\u001b[1;35marray\u001b[0m\u001b[1m(\u001b[0m\u001b[1m[\u001b[0m\u001b[1;36m0.289\u001b[0m, \u001b[1;36m0.289\u001b[0m, \u001b[1;36m0.289\u001b[0m, \u001b[1;36m0.289\u001b[0m, \u001b[1;36m0.289\u001b[0m, \u001b[1;36m0.289\u001b[0m, \u001b[1;36m0.289\u001b[0m, \u001b[1;36m0.289\u001b[0m\u001b[1m]\u001b[0m\u001b[1m)\u001b[0m\n"
      ]
     },
     "metadata": {},
     "output_type": "display_data"
    }
   ],
   "source": [
    "# model = smf.logit(\"Pr ~ S + E\", data=df_log).fit()\n",
    "model = smf.glm(\"Pr ~ 1\", data=df_log, family=sm.families.Binomial()).fit()\n",
    "display(model.summary())\n",
    "model.predict()\n"
   ]
  },
  {
   "cell_type": "code",
   "execution_count": 152,
   "metadata": {},
   "outputs": [
    {
     "name": "stdout",
     "output_type": "stream",
     "text": [
      "Optimization terminated successfully.\n",
      "         Current function value: 0.542296\n",
      "         Iterations 5\n"
     ]
    },
    {
     "data": {
      "text/html": [
       "<table class=\"simpletable\">\n",
       "<caption>Logit Regression Results</caption>\n",
       "<tr>\n",
       "  <th>Dep. Variable:</th>          <td>Pr</td>        <th>  No. Observations:  </th>  <td>     8</td> \n",
       "</tr>\n",
       "<tr>\n",
       "  <th>Model:</th>                 <td>Logit</td>      <th>  Df Residuals:      </th>  <td>     7</td> \n",
       "</tr>\n",
       "<tr>\n",
       "  <th>Method:</th>                 <td>MLE</td>       <th>  Df Model:          </th>  <td>     0</td> \n",
       "</tr>\n",
       "<tr>\n",
       "  <th>Date:</th>            <td>Fri, 13 May 2022</td> <th>  Pseudo R-squ.:     </th>  <td>-0.2820</td>\n",
       "</tr>\n",
       "<tr>\n",
       "  <th>Time:</th>                <td>11:48:08</td>     <th>  Log-Likelihood:    </th> <td> -4.3384</td>\n",
       "</tr>\n",
       "<tr>\n",
       "  <th>converged:</th>             <td>True</td>       <th>  LL-Null:           </th> <td> -3.3841</td>\n",
       "</tr>\n",
       "<tr>\n",
       "  <th>Covariance Type:</th>     <td>nonrobust</td>    <th>  LLR p-value:       </th>  <td>   nan</td> \n",
       "</tr>\n",
       "</table>\n",
       "<table class=\"simpletable\">\n",
       "<tr>\n",
       "      <td></td>         <th>coef</th>     <th>std err</th>      <th>z</th>      <th>P>|z|</th>  <th>[0.025</th>    <th>0.975]</th>  \n",
       "</tr>\n",
       "<tr>\n",
       "  <th>Intercept</th> <td>   -0.8999</td> <td>    0.780</td> <td>   -1.154</td> <td> 0.249</td> <td>   -2.428</td> <td>    0.629</td>\n",
       "</tr>\n",
       "</table>"
      ]
     },
     "metadata": {},
     "output_type": "display_data"
    },
    {
     "data": {
      "text/html": [
       "<pre style=\"white-space:pre;overflow-x:auto;line-height:normal;font-family:Menlo,'DejaVu Sans Mono',consolas,'Courier New',monospace\"><span style=\"color: #800080; text-decoration-color: #800080; font-weight: bold\">array</span><span style=\"font-weight: bold\">([</span><span style=\"color: #008080; text-decoration-color: #008080; font-weight: bold\">0.289</span>, <span style=\"color: #008080; text-decoration-color: #008080; font-weight: bold\">0.289</span>, <span style=\"color: #008080; text-decoration-color: #008080; font-weight: bold\">0.289</span>, <span style=\"color: #008080; text-decoration-color: #008080; font-weight: bold\">0.289</span>, <span style=\"color: #008080; text-decoration-color: #008080; font-weight: bold\">0.289</span>, <span style=\"color: #008080; text-decoration-color: #008080; font-weight: bold\">0.289</span>, <span style=\"color: #008080; text-decoration-color: #008080; font-weight: bold\">0.289</span>, <span style=\"color: #008080; text-decoration-color: #008080; font-weight: bold\">0.289</span><span style=\"font-weight: bold\">])</span>\n",
       "</pre>\n"
      ],
      "text/plain": [
       "\u001b[1;35marray\u001b[0m\u001b[1m(\u001b[0m\u001b[1m[\u001b[0m\u001b[1;36m0.289\u001b[0m, \u001b[1;36m0.289\u001b[0m, \u001b[1;36m0.289\u001b[0m, \u001b[1;36m0.289\u001b[0m, \u001b[1;36m0.289\u001b[0m, \u001b[1;36m0.289\u001b[0m, \u001b[1;36m0.289\u001b[0m, \u001b[1;36m0.289\u001b[0m\u001b[1m]\u001b[0m\u001b[1m)\u001b[0m\n"
      ]
     },
     "metadata": {},
     "output_type": "display_data"
    }
   ],
   "source": [
    "model = smf.logit(\"Pr ~ 1\", data=df_log).fit()\n",
    "display(model.summary())\n",
    "model.predict()"
   ]
  }
 ],
 "metadata": {
  "interpreter": {
   "hash": "8a94588eda9d64d9e9a351ab8144e55b1fabf5113b54e67dd26a8c27df0381b3"
  },
  "kernelspec": {
   "display_name": "Python 3.10.2 64-bit",
   "language": "python",
   "name": "python3"
  },
  "language_info": {
   "codemirror_mode": {
    "name": "ipython",
    "version": 3
   },
   "file_extension": ".py",
   "mimetype": "text/x-python",
   "name": "python",
   "nbconvert_exporter": "python",
   "pygments_lexer": "ipython3",
   "version": "3.10.4"
  },
  "orig_nbformat": 4
 },
 "nbformat": 4,
 "nbformat_minor": 2
}
